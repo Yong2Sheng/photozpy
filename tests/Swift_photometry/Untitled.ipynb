{
 "cells": [
  {
   "cell_type": "code",
   "execution_count": 4,
   "id": "9ad6c419-877b-47d9-9533-e8ac41878bb2",
   "metadata": {},
   "outputs": [],
   "source": [
    "# make sure you already activated the HEASoft environment by running `heainit` in the terminal\n",
    "from photozpy.swiftz import UVOTZ\n",
    "import pandas as pd\n",
    "import os\n",
    "import glob\n",
    "import numpy as np\n",
    "os.environ[\"HEADASNOQUERY\"]=\"\"\n",
    "os.environ['HEADASPROMPT'] = '/dev/null'"
   ]
  },
  {
   "cell_type": "code",
   "execution_count": 11,
   "id": "f7a007a1-2531-46de-9632-402811fc93ea",
   "metadata": {},
   "outputs": [],
   "source": [
    "# Define the directory to put the data folder. The images will be downloaded to the data folder and analyzed.\n",
    "analysis = UVOTZ(analysis_root_dir = \".\",\n",
    "                 src_catalog_dir = \"catalog.csv\")"
   ]
  },
  {
   "cell_type": "code",
   "execution_count": 12,
   "id": "c62ae746-3b86-4d74-b53a-1acc6c7140fc",
   "metadata": {},
   "outputs": [
    {
     "name": "stdout",
     "output_type": "stream",
     "text": [
      "{'name': 'RX J1651.6+7218', 'skycoord': <SkyCoord (ICRS): (ra, dec) in deg\n",
      "    (252.91641667, 72.30690556)>}\n",
      "00015119001 on 2022-04-17 07:35:02 is being downloaded, the uvot mode is 0x30ed\n"
     ]
    },
    {
     "name": "stderr",
     "output_type": "stream",
     "text": [
      "Downloading files: 100%|████████████████████████████████████████████████████████████████████████████████████████████████████████████████████████████████████████████████| 45/45 [05:27<00:00,  7.29s/files]"
     ]
    },
    {
     "name": "stdout",
     "output_type": "stream",
     "text": [
      "00015119001 has been downloaded/examined, skipping ...\n",
      "Source RX_J1651.6+7218 download finished!\n",
      "+++++++++++++++++++++++++++++++++++++++++++++++++++++++++++\n"
     ]
    },
    {
     "name": "stderr",
     "output_type": "stream",
     "text": [
      "\n"
     ]
    }
   ],
   "source": [
    "analysis.download_swift_data()"
   ]
  },
  {
   "cell_type": "code",
   "execution_count": 13,
   "id": "150aee6f-e8a7-4a92-afc4-3650d525c9db",
   "metadata": {},
   "outputs": [
    {
     "name": "stdout",
     "output_type": "stream",
     "text": [
      "Now summing RX J1651.6+7218\n"
     ]
    },
    {
     "name": "stderr",
     "output_type": "stream",
     "text": [
      "sh: 1: uvotimsum: not found\n",
      "sh: 1: uvotimsum: not found\n",
      "sh: 1: uvotimsum: not found\n",
      "sh: 1: uvotimsum: not found\n",
      "sh: 1: uvotimsum: not found\n",
      "sh: 1: uvotimsum: not found\n"
     ]
    }
   ],
   "source": [
    "analysis.sum_obs_files()"
   ]
  },
  {
   "cell_type": "code",
   "execution_count": null,
   "id": "4e60c9c0-bca4-4ce1-a9e3-5cfee98cac52",
   "metadata": {},
   "outputs": [],
   "source": []
  }
 ],
 "metadata": {
  "kernelspec": {
   "display_name": "Python 3 (ipykernel)",
   "language": "python",
   "name": "python3"
  },
  "language_info": {
   "codemirror_mode": {
    "name": "ipython",
    "version": 3
   },
   "file_extension": ".py",
   "mimetype": "text/x-python",
   "name": "python",
   "nbconvert_exporter": "python",
   "pygments_lexer": "ipython3",
   "version": "3.11.4"
  }
 },
 "nbformat": 4,
 "nbformat_minor": 5
}
