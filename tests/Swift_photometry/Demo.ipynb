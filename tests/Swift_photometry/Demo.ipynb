{
 "cells": [
  {
   "cell_type": "code",
   "execution_count": 1,
   "id": "9a803623-b04c-446a-aaaa-48079fba4692",
   "metadata": {},
   "outputs": [
    {
     "name": "stdin",
     "output_type": "stream",
     "text": [
      "Once deleted, variables cannot be recovered. Proceed (y/[n])?  y\n"
     ]
    }
   ],
   "source": [
    "%reset"
   ]
  },
  {
   "cell_type": "code",
   "execution_count": 1,
   "id": "c05ce24a-1f20-4429-8e57-5c67149e2fff",
   "metadata": {},
   "outputs": [],
   "source": [
    "# No automatic dependency installation yet, you will have to manually install the depencies for now:\n",
    "# numpy\n",
    "# pandas\n",
    "# tqdm\n",
    "# astropy\n",
    "# swifttools\n",
    "\n",
    "# Make sure that you activate the uvot tools in the terminal before opening jupyter notebook"
   ]
  },
  {
   "cell_type": "code",
   "execution_count": 2,
   "id": "e2dd7cce-1e2c-48ac-ae59-cb389a5db9ae",
   "metadata": {},
   "outputs": [
    {
     "name": "stderr",
     "output_type": "stream",
     "text": [
      "/home/yong/anaconda3/envs/photozpy/lib/python3.11/site-packages/tqdm/auto.py:21: TqdmWarning: IProgress not found. Please update jupyter and ipywidgets. See https://ipywidgets.readthedocs.io/en/stable/user_install.html\n"
     ]
    }
   ],
   "source": [
    "from swiftz import UVOTZ\n",
    "import pandas as pd\n",
    "import os\n",
    "import glob\n",
    "import numpy as np\n",
    "os.environ[\"HEADASNOQUERY\"]=\"\"\n",
    "os.environ['HEADASPROMPT'] = '/dev/null'"
   ]
  },
  {
   "cell_type": "code",
   "execution_count": 3,
   "id": "4922fd54-b338-42e8-9100-ee69916e5715",
   "metadata": {},
   "outputs": [],
   "source": [
    "root_dir = \".\"\n",
    "metafile = \"metadata.csv\"\n"
   ]
  },
  {
   "cell_type": "code",
   "execution_count": 4,
   "id": "9897b7f5-b5e6-4c29-9406-41327f816e03",
   "metadata": {},
   "outputs": [
    {
     "name": "stdout",
     "output_type": "stream",
     "text": [
      "./metadata.csv\n"
     ]
    }
   ],
   "source": [
    "analysis = UVOTZ(root_dir,metafile)\n"
   ]
  },
  {
   "cell_type": "code",
   "execution_count": 4,
   "id": "8cf0ad78-a76d-4c87-b2af-00627014cf58",
   "metadata": {},
   "outputs": [
    {
     "name": "stdout",
     "output_type": "stream",
     "text": [
      "00015119001 on 2022-04-17 07:35:02 is being downloaded, the uvot mode is 0x30ed\n"
     ]
    },
    {
     "name": "stderr",
     "output_type": "stream",
     "text": [
      "Downloading files: 100%|██████████████████████████████████████████| 45/45 [04:31<00:00,  6.03s/files]"
     ]
    },
    {
     "name": "stdout",
     "output_type": "stream",
     "text": [
      "00015119001 has been downloaded/examined, skipping ...\n",
      "Source RX_J1651.6+7218 download finished!\n",
      "+++++++++++++++++++++++++++++++++++++++++++++++++++++++++++\n"
     ]
    },
    {
     "name": "stderr",
     "output_type": "stream",
     "text": [
      "\n"
     ]
    }
   ],
   "source": [
    "analysis.ObsDownload(begin = \"2015-01-01\", end = \"2023-01-01\")"
   ]
  },
  {
   "cell_type": "code",
   "execution_count": 5,
   "id": "9693ebb8-2d8f-45a6-ae6f-1d27d79c6d25",
   "metadata": {},
   "outputs": [
    {
     "name": "stdout",
     "output_type": "stream",
     "text": [
      "Now summing RX J1651.6+7218\n"
     ]
    }
   ],
   "source": [
    "analysis.UVOTSum()"
   ]
  },
  {
   "cell_type": "markdown",
   "id": "fc52f8eb-5f53-4faf-8bcc-d628ca47a4a2",
   "metadata": {},
   "source": [
    "After summing, go to `./RX_J1651.6+7218/summed` directory and define the background regions for each filter.\n",
    "I am considering to make bkg region also automatic, but this involves source detection and rejection.\n",
    "This can be a future function"
   ]
  },
  {
   "cell_type": "code",
   "execution_count": 5,
   "id": "b14c50a2-823a-40c3-8fa9-65078b84fa2b",
   "metadata": {},
   "outputs": [
    {
     "name": "stderr",
     "output_type": "stream",
     "text": [
      "/home/yong/Desktop/Photo_z/swiftz/swiftz.py:347: FutureWarning: The frame.append method is deprecated and will be removed from pandas in a future version. Use pandas.concat instead.\n"
     ]
    },
    {
     "name": "stdout",
     "output_type": "stream",
     "text": [
      "Running uvotsource image=./RX_J1651.6+7218/summed/alluuu.fits srcreg=./RX_J1651.6+7218/summed/uuu.reg bkgreg=./RX_J1651.6+7218/summed/bguuu.reg sigma=3 cleanup=y clobber=y outfile=./RX_J1651.6+7218/summed/uuu_Results.fits | tee ./RX_J1651.6+7218/summed/uuu_Results.txt >/dev/null\n",
      "Running uvotsource image=./RX_J1651.6+7218/summed/allubb.fits srcreg=./RX_J1651.6+7218/summed/ubb.reg bkgreg=./RX_J1651.6+7218/summed/bgubb.reg sigma=3 cleanup=y clobber=y outfile=./RX_J1651.6+7218/summed/ubb_Results.fits | tee ./RX_J1651.6+7218/summed/ubb_Results.txt >/dev/null\n",
      "Running uvotsource image=./RX_J1651.6+7218/summed/alluw2.fits srcreg=./RX_J1651.6+7218/summed/uw2.reg bkgreg=./RX_J1651.6+7218/summed/bguw2.reg sigma=3 cleanup=y clobber=y outfile=./RX_J1651.6+7218/summed/uw2_Results.fits | tee ./RX_J1651.6+7218/summed/uw2_Results.txt >/dev/null\n",
      "Running uvotsource image=./RX_J1651.6+7218/summed/allum2.fits srcreg=./RX_J1651.6+7218/summed/um2.reg bkgreg=./RX_J1651.6+7218/summed/bgum2.reg sigma=3 cleanup=y clobber=y outfile=./RX_J1651.6+7218/summed/um2_Results.fits | tee ./RX_J1651.6+7218/summed/um2_Results.txt >/dev/null\n",
      "Running uvotsource image=./RX_J1651.6+7218/summed/alluw1.fits srcreg=./RX_J1651.6+7218/summed/uw1.reg bkgreg=./RX_J1651.6+7218/summed/bguw1.reg sigma=3 cleanup=y clobber=y outfile=./RX_J1651.6+7218/summed/uw1_Results.fits | tee ./RX_J1651.6+7218/summed/uw1_Results.txt >/dev/null\n",
      "Running uvotsource image=./RX_J1651.6+7218/summed/alluvv.fits srcreg=./RX_J1651.6+7218/summed/uvv.reg bkgreg=./RX_J1651.6+7218/summed/bguvv.reg sigma=3 cleanup=y clobber=y outfile=./RX_J1651.6+7218/summed/uvv_Results.fits | tee ./RX_J1651.6+7218/summed/uvv_Results.txt >/dev/null\n"
     ]
    },
    {
     "name": "stderr",
     "output_type": "stream",
     "text": [
      "Parameter bkgreg: file \"./RX_J1651.6+7218/summed/bguvv.reg\" is not accessible in mode r.\n",
      "ERROR: No such process\n",
      "Task uvotsource 4.4 terminating with status 3\n"
     ]
    },
    {
     "ename": "UnboundLocalError",
     "evalue": "cannot access local variable 'ab_mag_line' where it is not associated with a value",
     "output_type": "error",
     "traceback": [
      "\u001b[0;31m---------------------------------------------------------------------------\u001b[0m",
      "\u001b[0;31mUnboundLocalError\u001b[0m                         Traceback (most recent call last)",
      "Cell \u001b[0;32mIn[5], line 3\u001b[0m\n\u001b[1;32m      1\u001b[0m \u001b[38;5;66;03m# This step take pretty long if you are using remote CALDB. \u001b[39;00m\n\u001b[1;32m      2\u001b[0m \u001b[38;5;66;03m# I am not very sure, but making the uvotsource step for different filters parallel should be possible.\u001b[39;00m\n\u001b[0;32m----> 3\u001b[0m \u001b[43manalysis\u001b[49m\u001b[38;5;241;43m.\u001b[39;49m\u001b[43mUVOTSource\u001b[49m\u001b[43m(\u001b[49m\u001b[43m)\u001b[49m\n",
      "File \u001b[0;32m~/Desktop/Photo_z/swiftz/swiftz.py:366\u001b[0m, in \u001b[0;36mUVOTZ.UVOTSource\u001b[0;34m(self)\u001b[0m\n\u001b[1;32m    363\u001b[0m os\u001b[38;5;241m.\u001b[39msystem(\u001b[38;5;124mf\u001b[39m\u001b[38;5;124m\"\u001b[39m\u001b[38;5;124muvotsource image=\u001b[39m\u001b[38;5;132;01m{\u001b[39;00mfits_file\u001b[38;5;132;01m}\u001b[39;00m\u001b[38;5;124m srcreg=\u001b[39m\u001b[38;5;132;01m{\u001b[39;00msrc_region\u001b[38;5;132;01m}\u001b[39;00m\u001b[38;5;124m bkgreg=\u001b[39m\u001b[38;5;132;01m{\u001b[39;00mbkg_region\u001b[38;5;132;01m}\u001b[39;00m\u001b[38;5;124m sigma=3 cleanup=y clobber=y outfile=\u001b[39m\u001b[38;5;132;01m{\u001b[39;00moutfits\u001b[38;5;132;01m}\u001b[39;00m\u001b[38;5;124m | tee \u001b[39m\u001b[38;5;132;01m{\u001b[39;00mouttxt\u001b[38;5;132;01m}\u001b[39;00m\u001b[38;5;124m >/dev/null\u001b[39m\u001b[38;5;124m\"\u001b[39m)\n\u001b[1;32m    365\u001b[0m \u001b[38;5;66;03m# extract the magnitudes\u001b[39;00m\n\u001b[0;32m--> 366\u001b[0m ab_mag, ab_err \u001b[38;5;241m=\u001b[39m \u001b[38;5;28;43mself\u001b[39;49m\u001b[38;5;241;43m.\u001b[39;49m\u001b[43mfind_mag\u001b[49m\u001b[43m(\u001b[49m\u001b[43mouttxt\u001b[49m\u001b[43m)\u001b[49m\n\u001b[1;32m    368\u001b[0m index \u001b[38;5;241m=\u001b[39m df_results\u001b[38;5;241m.\u001b[39mshape[\u001b[38;5;241m0\u001b[39m]\u001b[38;5;241m-\u001b[39m\u001b[38;5;241m1\u001b[39m\n\u001b[1;32m    370\u001b[0m df_results\u001b[38;5;241m.\u001b[39mloc[index, filter_] \u001b[38;5;241m=\u001b[39m ab_mag\n",
      "File \u001b[0;32m~/Desktop/Photo_z/swiftz/swiftz.py:313\u001b[0m, in \u001b[0;36mUVOTZ.find_mag\u001b[0;34m(self, result)\u001b[0m\n\u001b[1;32m    309\u001b[0m         \u001b[38;5;66;03m#print(ab_mag_line)\u001b[39;00m\n\u001b[1;32m    311\u001b[0m file_read\u001b[38;5;241m.\u001b[39mclose()\n\u001b[0;32m--> 313\u001b[0m \u001b[38;5;28;01mif\u001b[39;00m \u001b[43mab_mag_line\u001b[49m[\u001b[38;5;241m22\u001b[39m:\u001b[38;5;241m23\u001b[39m] \u001b[38;5;241m==\u001b[39m \u001b[38;5;124m\"\u001b[39m\u001b[38;5;124m>\u001b[39m\u001b[38;5;124m\"\u001b[39m:\n\u001b[1;32m    314\u001b[0m     ab_mag \u001b[38;5;241m=\u001b[39m \u001b[38;5;28mround\u001b[39m(\u001b[38;5;28mfloat\u001b[39m(ab_mag_line[\u001b[38;5;241m24\u001b[39m:]),\u001b[38;5;241m4\u001b[39m)\n\u001b[1;32m    315\u001b[0m     ab_err \u001b[38;5;241m=\u001b[39m \u001b[38;5;241m-\u001b[39m\u001b[38;5;241m1\u001b[39m\n",
      "\u001b[0;31mUnboundLocalError\u001b[0m: cannot access local variable 'ab_mag_line' where it is not associated with a value"
     ]
    }
   ],
   "source": [
    "# This step take pretty long if you are using remote CALDB. \n",
    "# I am not very sure, but making the uvotsource step for different filters parallel should be possible.\n",
    "analysis.UVOTSource()\n"
   ]
  },
  {
   "cell_type": "code",
   "execution_count": 1,
   "id": "85337c27-a3c9-48e2-9d26-3df80f2ab45c",
   "metadata": {},
   "outputs": [],
   "source": [
    "from astropy.io import fits"
   ]
  },
  {
   "cell_type": "code",
   "execution_count": 24,
   "id": "47ba817b-4b46-46f7-b8ff-205afadd5441",
   "metadata": {},
   "outputs": [],
   "source": [
    "hdul = fits.open(\"./data/RX_J1651.6+7218/Summed/uuu_Results.fits\")\n",
    "hdul = fits.open(\"./data/RX_J1651.6+7218/Summed/alluuu.fits\")"
   ]
  },
  {
   "cell_type": "code",
   "execution_count": 25,
   "id": "ee9622ee-e3e6-4432-a7a9-a92318900a2d",
   "metadata": {},
   "outputs": [
    {
     "name": "stdout",
     "output_type": "stream",
     "text": [
      "Filename: ./data/RX_J1651.6+7218/Summed/alluuu.fits\n",
      "No.    Name      Ver    Type      Cards   Dimensions   Format\n",
      "  0  PRIMARY       1 PrimaryHDU      96   ()      \n",
      "  1  U             1 ImageHDU       108   (1233, 1215)   float32   \n"
     ]
    }
   ],
   "source": [
    "hdul.info()"
   ]
  },
  {
   "cell_type": "code",
   "execution_count": 30,
   "id": "4b9b4e47-9ceb-44a5-a8ca-33576996231a",
   "metadata": {},
   "outputs": [
    {
     "data": {
      "text/plain": [
       "'U'"
      ]
     },
     "execution_count": 30,
     "metadata": {},
     "output_type": "execute_result"
    }
   ],
   "source": [
    "hdul[1].header[\"FILTER\"]"
   ]
  },
  {
   "cell_type": "code",
   "execution_count": 21,
   "id": "4d7df896-5b83-487b-a418-ddaee6f32db1",
   "metadata": {},
   "outputs": [],
   "source": [
    "data = hdul[1].data"
   ]
  },
  {
   "cell_type": "code",
   "execution_count": 22,
   "id": "965c52b5-00ef-4648-9a44-07428231dc5c",
   "metadata": {},
   "outputs": [
    {
     "data": {
      "text/plain": [
       "FITS_rec([(6.71868464e+08, 'UVW2', 6.71862595e+08, 6.71874333e+08, 547.74506, 11738.364, 0., 78.64137, 2827.249, 78.64137, 1.004, 175.112, 13.210001, 1197.775, 34.59726, 175.112, 13.210001, 0.3196962, 0.02411706, 0.00077345, 2.2340824e-05, 0.3196962, 0.02411706, 1.0019681, 0.07571748, 1.000374, 0.02890495, 0.32032537, 0.02420659, 0.00077374, 2.2356562e-05, 0.2594774, 0.02427035, 0.9999638, 1.0216955, 0.259468, 0.02479691, 1., 0.259468, 0.02479691, 1., 0.259468, 0.02479691, 1.3736, 0.35640526, 0.03406104, 0.35640526, 0.03406104, 20.23014, 0.10376194, 0.10376194, 0.03, 26.888512, 0.03137142, 0.03, 0.03137142, 22.223328, 3., 12.68296, 2.2186227e-16, 2.1202995e-17, 4.633268e-18, 2.1202995e-17, 4.816532e-19, 1.391696e-20, 1.0058621e-20, 1.391696e-20, 3.5384123e-17, 2.3171566e-13, 0.0293363, 0.00280362, 0.00061265, 0.00280362, 6.36878e-05, 1.840205e-06, 1.3300265e-06, 1.840205e-06, 0.00467875, 30.639183, 18.50014, 0.10376194, 0.10376194, 0.03, 25.158512, 0.03137142, 0.03, 0.03137142, 20.493328, 3., 10.95296, 2.1298777e-16, 2.0354875e-17, 4.633268e-18, 2.0354875e-17, 4.623871e-19, 1.3360281e-20, 1.0058621e-20, 1.3360281e-20, 3.3968757e-17, 2.2244702e-13, 0.02936356, 0.00280623, 0.00063877, 0.00280623, 6.3747e-05, 1.8419154e-06, 1.3867319e-06, 1.8419154e-06, 0.0046831, 30.667662, 0.04138324, 0.05684197, 'UVW2', 252.91641667, 72.30690556, nan, nan, 10.705564, 0.0110322, 0,  0, 547.74506, 547.74506, -999, 3, 0)],\n",
       "         dtype=(numpy.record, [('MET', '>f8'), ('EXTNAME', 'S12'), ('TSTART', '>f8'), ('TSTOP', '>f8'), ('EXPOSURE', '>f4'), ('TELAPSE', '>f4'), ('TIME', '>f8'), ('SRC_AREA', '>f4'), ('BKG_AREA', '>f4'), ('STD_AREA', '>f4'), ('PLATE_SCALE', '>f4'), ('RAW_TOT_CNTS', '>f4'), ('RAW_TOT_CNTS_ERR', '>f4'), ('RAW_BKG_CNTS', '>f4'), ('RAW_BKG_CNTS_ERR', '>f4'), ('RAW_STD_CNTS', '>f4'), ('RAW_STD_CNTS_ERR', '>f4'), ('RAW_TOT_RATE', '>f4'), ('RAW_TOT_RATE_ERR', '>f4'), ('RAW_BKG_RATE', '>f4'), ('RAW_BKG_RATE_ERR', '>f4'), ('RAW_STD_RATE', '>f4'), ('RAW_STD_RATE_ERR', '>f4'), ('COI_STD_FACTOR', '>f4'), ('COI_STD_FACTOR_ERR', '>f4'), ('COI_BKG_FACTOR', '>f4'), ('COI_BKG_FACTOR_ERR', '>f4'), ('COI_TOT_RATE', '>f4'), ('COI_TOT_RATE_ERR', '>f4'), ('COI_BKG_RATE', '>f4'), ('COI_BKG_RATE_ERR', '>f4'), ('COI_SRC_RATE', '>f4'), ('COI_SRC_RATE_ERR', '>f4'), ('AP_FACTOR', '>f4'), ('AP_FACTOR_ERR', '>f4'), ('AP_COI_SRC_RATE', '>f4'), ('AP_COI_SRC_RATE_ERR', '>f4'), ('LSS_FACTOR', '>f4'), ('LSS_RATE', '>f4'), ('LSS_RATE_ERR', '>f4'), ('SSS_FACTOR', '>f4'), ('SSS_RATE', '>f4'), ('SSS_RATE_ERR', '>f4'), ('SENSCORR_FACTOR', '>f4'), ('SENSCORR_RATE', '>f4'), ('SENSCORR_RATE_ERR', '>f4'), ('CORR_RATE', '>f4'), ('CORR_RATE_ERR', '>f4'), ('AB_MAG', '>f4'), ('AB_MAG_ERR', '>f4'), ('AB_MAG_ERR_STAT', '>f4'), ('AB_MAG_ERR_SYS', '>f4'), ('AB_MAG_BKG', '>f4'), ('AB_MAG_BKG_ERR_STAT', '>f4'), ('AB_MAG_BKG_ERR_SYS', '>f4'), ('AB_MAG_BKG_ERR', '>f4'), ('AB_MAG_LIM', '>f4'), ('AB_MAG_LIM_SIG', '>f4'), ('AB_MAG_COI_LIM', '>f4'), ('AB_FLUX_AA', '>f4'), ('AB_FLUX_AA_ERR_STAT', '>f4'), ('AB_FLUX_AA_ERR_SYS', '>f4'), ('AB_FLUX_AA_ERR', '>f4'), ('AB_FLUX_AA_BKG', '>f4'), ('AB_FLUX_AA_BKG_ERR_STAT', '>f4'), ('AB_FLUX_AA_BKG_ERR_SYS', '>f4'), ('AB_FLUX_AA_BKG_ERR', '>f4'), ('AB_FLUX_AA_LIM', '>f4'), ('AB_FLUX_AA_COI_LIM', '>f4'), ('AB_FLUX_HZ', '>f4'), ('AB_FLUX_HZ_ERR_STAT', '>f4'), ('AB_FLUX_HZ_ERR_SYS', '>f4'), ('AB_FLUX_HZ_ERR', '>f4'), ('AB_FLUX_HZ_BKG', '>f4'), ('AB_FLUX_HZ_BKG_ERR_STAT', '>f4'), ('AB_FLUX_HZ_BKG_ERR_SYS', '>f4'), ('AB_FLUX_HZ_BKG_ERR', '>f4'), ('AB_FLUX_HZ_LIM', '>f4'), ('AB_FLUX_HZ_COI_LIM', '>f4'), ('MAG', '>f4'), ('MAG_ERR', '>f4'), ('MAG_ERR_STAT', '>f4'), ('MAG_ERR_SYS', '>f4'), ('MAG_BKG', '>f4'), ('MAG_BKG_ERR_STAT', '>f4'), ('MAG_BKG_ERR_SYS', '>f4'), ('MAG_BKG_ERR', '>f4'), ('MAG_LIM', '>f4'), ('MAG_LIM_SIG', '>f4'), ('MAG_COI_LIM', '>f4'), ('FLUX_AA', '>f4'), ('FLUX_AA_ERR_STAT', '>f4'), ('FLUX_AA_ERR_SYS', '>f4'), ('FLUX_AA_ERR', '>f4'), ('FLUX_AA_BKG', '>f4'), ('FLUX_AA_BKG_ERR_STAT', '>f4'), ('FLUX_AA_BKG_ERR_SYS', '>f4'), ('FLUX_AA_BKG_ERR', '>f4'), ('FLUX_AA_LIM', '>f4'), ('FLUX_AA_COI_LIM', '>f4'), ('FLUX_HZ', '>f4'), ('FLUX_HZ_ERR_STAT', '>f4'), ('FLUX_HZ_ERR_SYS', '>f4'), ('FLUX_HZ_ERR', '>f4'), ('FLUX_HZ_BKG', '>f4'), ('FLUX_HZ_BKG_ERR_STAT', '>f4'), ('FLUX_HZ_BKG_ERR_SYS', '>f4'), ('FLUX_HZ_BKG_ERR', '>f4'), ('FLUX_HZ_LIM', '>f4'), ('FLUX_HZ_COI_LIM', '>f4'), ('COI_RATE_LIMIT', '>f4'), ('CORR_RATE_LIMIT', '>f4'), ('FILTER', 'S8'), ('RA', '>f8'), ('DEC', '>f8'), ('DETX', '>f4'), ('DETY', '>f4'), ('NSIGMA', '>f4'), ('FRAMTIME', '>f4'), ('SATURATED', '>i2'), ('SYS_ERR', 'i1'), ('SRCEXP', '>f4'), ('BKGEXP', '>f4'), ('QUALFLAG', '>i4'), ('PHOTFLAG', '>i4'), ('CORRFLAG', '>i4')]))"
      ]
     },
     "execution_count": 22,
     "metadata": {},
     "output_type": "execute_result"
    }
   ],
   "source": [
    "data"
   ]
  },
  {
   "cell_type": "code",
   "execution_count": 41,
   "id": "0309cc0e-7ec1-4763-b8bb-410fe86ee8f8",
   "metadata": {},
   "outputs": [
    {
     "name": "stdout",
     "output_type": "stream",
     "text": [
      "19.44\n"
     ]
    }
   ],
   "source": [
    "print(np.round(data[\"AB_MAG\"][0], decimals=2))"
   ]
  },
  {
   "cell_type": "code",
   "execution_count": 42,
   "id": "3ce593fe-0877-4c24-939c-0723d4f4f8fe",
   "metadata": {},
   "outputs": [
    {
     "name": "stdout",
     "output_type": "stream",
     "text": [
      "0.14\n"
     ]
    }
   ],
   "source": [
    "print(np.round(data[\"AB_MAG_ERR_STAT\"][0], decimals=2))"
   ]
  },
  {
   "cell_type": "code",
   "execution_count": 43,
   "id": "094250f3-c019-430a-9e22-1ca154204929",
   "metadata": {},
   "outputs": [
    {
     "name": "stdout",
     "output_type": "stream",
     "text": [
      "0.02\n"
     ]
    }
   ],
   "source": [
    "print(np.round(data[\"AB_MAG_ERR_SYS\"][0], decimals=2))"
   ]
  },
  {
   "cell_type": "code",
   "execution_count": 23,
   "id": "366fa0e6-a503-43f1-8a5f-0aaceadcc3bb",
   "metadata": {},
   "outputs": [
    {
     "data": {
      "text/plain": [
       "'uvw2'"
      ]
     },
     "execution_count": 23,
     "metadata": {},
     "output_type": "execute_result"
    }
   ],
   "source": [
    "data[\"EXTNAME\"][0].lower()"
   ]
  },
  {
   "cell_type": "code",
   "execution_count": 6,
   "id": "e43a467e-1a80-4b49-b21d-f5c4448a6b26",
   "metadata": {},
   "outputs": [
    {
     "ename": "AttributeError",
     "evalue": "'UVOTZ' object has no attribute 'dict_ext'",
     "output_type": "error",
     "traceback": [
      "\u001b[0;31m---------------------------------------------------------------------------\u001b[0m",
      "\u001b[0;31mAttributeError\u001b[0m                            Traceback (most recent call last)",
      "Cell \u001b[0;32mIn[6], line 1\u001b[0m\n\u001b[0;32m----> 1\u001b[0m \u001b[43manalysis\u001b[49m\u001b[38;5;241;43m.\u001b[39;49m\u001b[43mdict_ext\u001b[49m\n",
      "\u001b[0;31mAttributeError\u001b[0m: 'UVOTZ' object has no attribute 'dict_ext'"
     ]
    }
   ],
   "source": [
    "analysis.dict_ext"
   ]
  },
  {
   "cell_type": "code",
   "execution_count": null,
   "id": "b6bf6695-c134-4604-b399-effeff3e2d45",
   "metadata": {},
   "outputs": [],
   "source": []
  }
 ],
 "metadata": {
  "kernelspec": {
   "display_name": "Python 3 (ipykernel)",
   "language": "python",
   "name": "python3"
  },
  "language_info": {
   "codemirror_mode": {
    "name": "ipython",
    "version": 3
   },
   "file_extension": ".py",
   "mimetype": "text/x-python",
   "name": "python",
   "nbconvert_exporter": "python",
   "pygments_lexer": "ipython3",
   "version": "3.11.4"
  }
 },
 "nbformat": 4,
 "nbformat_minor": 5
}
