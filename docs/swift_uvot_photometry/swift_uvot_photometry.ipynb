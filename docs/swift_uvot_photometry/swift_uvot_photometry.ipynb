{
 "cells": [
  {
   "cell_type": "code",
   "execution_count": 2,
   "id": "496614cc-a084-4412-8aa4-64d98029ad1c",
   "metadata": {},
   "outputs": [],
   "source": [
    "%%capture\n",
    "from pathlib import Path\n",
    "from ccdproc import ImageFileCollection\n",
    "from photozpy import Telescope, HeaderCorrection, Telescope, SwiftDownload, mImageFileCollection, SwiftCombine\n",
    "import pandas as pd\n",
    "import copy\n",
    "from astropy.time import Time\n",
    "from astropy.coordinates import SkyCoord\n",
    "import astropy.units as u\n",
    "import numpy as np\n",
    "import shutil\n",
    "import os\n",
    "os.environ[\"HEADASNOQUERY\"]=\"\"\n",
    "os.environ['HEADASPROMPT'] = '/dev/null'"
   ]
  },
  {
   "cell_type": "markdown",
   "id": "f182dac9-8dc0-4945-80a1-cf055fab33ca",
   "metadata": {},
   "source": [
    "## Define the root directory to download and analyze data"
   ]
  },
  {
   "cell_type": "code",
   "execution_count": 4,
   "id": "7fb11b00-56b9-4242-bda4-ca09da54e8d8",
   "metadata": {},
   "outputs": [],
   "source": [
    "# set to the directory as you desire. It's the root directory of this notebook in default\n",
    "root_dir = Path(\"./data\")\n",
    "root_dir.mkdir(exist_ok=True)"
   ]
  },
  {
   "cell_type": "markdown",
   "id": "799a3582-1c64-4291-99e2-2f91419c2450",
   "metadata": {},
   "source": [
    "## Download data"
   ]
  },
  {
   "cell_type": "code",
   "execution_count": 5,
   "id": "b18076bf-0792-489c-a17f-c8ddf72a8273",
   "metadata": {},
   "outputs": [
    {
     "name": "stdout",
     "output_type": "stream",
     "text": [
      "Downloading data for 4FGL J0700.5-6610 ...\n",
      "00038456003 on 2024-02-15 23:24:02 is being downloaded, the uvot mode is 0x30ed\n"
     ]
    },
    {
     "data": {
      "application/vnd.jupyter.widget-view+json": {
       "model_id": "8e1b48b7e67e40ea977b7c1ac09f02e0",
       "version_major": 2,
       "version_minor": 0
      },
      "text/plain": [
       "Downloading files:   0%|          | 0/18 [00:00<?, ?files/s]"
      ]
     },
     "metadata": {},
     "output_type": "display_data"
    },
    {
     "name": "stdout",
     "output_type": "stream",
     "text": [
      "00038456003 has been downloaded/examined, skipping ...\n",
      "Downloading data for B3 0850+443 ...\n",
      "00014051002 on 2021-02-10 11:02:02 is being downloaded, the uvot mode is 0x30ed\n"
     ]
    },
    {
     "data": {
      "application/vnd.jupyter.widget-view+json": {
       "model_id": "1253ab0f9a264adfa5570d1618b80d84",
       "version_major": 2,
       "version_minor": 0
      },
      "text/plain": [
       "Downloading files:   0%|          | 0/18 [00:00<?, ?files/s]"
      ]
     },
     "metadata": {},
     "output_type": "display_data"
    },
    {
     "name": "stdout",
     "output_type": "stream",
     "text": [
      "00014051001 on 2021-02-07 16:01:02 is being downloaded, the uvot mode is 0x30ed\n"
     ]
    },
    {
     "data": {
      "application/vnd.jupyter.widget-view+json": {
       "model_id": "593a4bc31b79430ba95bd4c463a7fbf1",
       "version_major": 2,
       "version_minor": 0
      },
      "text/plain": [
       "Downloading files:   0%|          | 0/18 [00:00<?, ?files/s]"
      ]
     },
     "metadata": {},
     "output_type": "display_data"
    },
    {
     "name": "stdout",
     "output_type": "stream",
     "text": [
      "00014051001 has been downloaded/examined, skipping ...\n",
      "00014051001 has been downloaded/examined, skipping ...\n",
      "Downloading data for 87GB 213913.0+293303 ...\n",
      "00016150001 on 2023-07-26 23:41:02 is being downloaded, the uvot mode is 0x30ed\n"
     ]
    },
    {
     "data": {
      "application/vnd.jupyter.widget-view+json": {
       "model_id": "7515839a411848468e6300f5ae498cbb",
       "version_major": 2,
       "version_minor": 0
      },
      "text/plain": [
       "Downloading files:   0%|          | 0/18 [00:00<?, ?files/s]"
      ]
     },
     "metadata": {},
     "output_type": "display_data"
    },
    {
     "name": "stdout",
     "output_type": "stream",
     "text": [
      "00016150001 has been downloaded/examined, skipping ...\n"
     ]
    }
   ],
   "source": [
    "# create the swift download instance\n",
    "swift_download = SwiftDownload(download_dir = root_dir)\n",
    "\n",
    "# parse the obsquery infor from a csv file\n",
    "swift_download.set_obsquery_info_from_csv(\"source_catalog.csv\")\n",
    "\n",
    "# download data\n",
    "swift_download.download_swift_data(organize = False)"
   ]
  },
  {
   "cell_type": "markdown",
   "id": "2fed1fe7-5dba-4cd1-acbc-49cc81d52fc6",
   "metadata": {},
   "source": [
    "## Sum extensions within and across observations"
   ]
  },
  {
   "cell_type": "code",
   "execution_count": 10,
   "id": "9bb64d85-1caf-42e0-b26c-7422f8403e6e",
   "metadata": {},
   "outputs": [
    {
     "name": "stdout",
     "output_type": "stream",
     "text": [
      "[PosixPath('data/4FGL_J0700.5-6610'), PosixPath('data/B3_0850+443'), PosixPath('data/87GB_213913.0+293303')]\n"
     ]
    }
   ],
   "source": [
    "# Get the directory for each source\n",
    "paths = [path for path in root_dir.iterdir() if path.is_dir()]\n",
    "print(paths)\n",
    "\n",
    "# Hidden directories will be included if exists, make sure you remove the directory that you don't want.\n",
    "#paths.remove(paths[1])\n",
    "#print(paths)"
   ]
  },
  {
   "cell_type": "code",
   "execution_count": 11,
   "id": "e0675049-517d-4bad-86a5-9f899c276785",
   "metadata": {},
   "outputs": [],
   "source": [
    "# Define a multi image collection object\n",
    "multi_collection = mImageFileCollection(image_dir = paths)\n",
    "\n",
    "# Define the swift telescope\n",
    "swift_telescope = Telescope(telescope = \"Swift\", mode = \"0X30ED\", ccd = \"UVOT\")"
   ]
  },
  {
   "cell_type": "code",
   "execution_count": 12,
   "id": "e4dd225d-f464-41cb-bfb2-65dff28af5c3",
   "metadata": {},
   "outputs": [],
   "source": [
    "# Sum the extensions\n",
    "swift_combine = SwiftCombine(image_collection = multi_collection, telescope = swift_telescope)"
   ]
  },
  {
   "cell_type": "code",
   "execution_count": 13,
   "id": "05155cfe-ebdd-4d37-be2a-9b1885300efd",
   "metadata": {},
   "outputs": [
    {
     "name": "stdout",
     "output_type": "stream",
     "text": [
      "uvotimsum infile=data/4FGL_J0700.5-6610/sw00038456003ubb_sk.fits outfile=data/4FGL_J0700.5-6610/B.fits | tee -a uvotimsum_log.txt >/dev/null 2>&1\n",
      "Extensions in sw00038456003ubb_sk.fits has been summed to B.fits\n",
      "\n",
      "uvotimsum infile=data/4FGL_J0700.5-6610/sw00038456003um2_sk.fits outfile=data/4FGL_J0700.5-6610/UVM2.fits | tee -a uvotimsum_log.txt >/dev/null 2>&1\n",
      "Extensions in sw00038456003um2_sk.fits has been summed to UVM2.fits\n",
      "\n",
      "uvotimsum infile=data/4FGL_J0700.5-6610/sw00038456003uuu_sk.fits outfile=data/4FGL_J0700.5-6610/U.fits | tee -a uvotimsum_log.txt >/dev/null 2>&1\n",
      "Extensions in sw00038456003uuu_sk.fits has been summed to U.fits\n",
      "\n",
      "uvotimsum infile=data/4FGL_J0700.5-6610/sw00038456003uvv_sk.fits outfile=data/4FGL_J0700.5-6610/V.fits | tee -a uvotimsum_log.txt >/dev/null 2>&1\n",
      "Extensions in sw00038456003uvv_sk.fits has been summed to V.fits\n",
      "\n",
      "uvotimsum infile=data/4FGL_J0700.5-6610/sw00038456003uw1_sk.fits outfile=data/4FGL_J0700.5-6610/UVW1.fits | tee -a uvotimsum_log.txt >/dev/null 2>&1\n",
      "Extensions in sw00038456003uw1_sk.fits has been summed to UVW1.fits\n",
      "\n",
      "uvotimsum infile=data/4FGL_J0700.5-6610/sw00038456003uw2_sk.fits outfile=data/4FGL_J0700.5-6610/UVW2.fits | tee -a uvotimsum_log.txt >/dev/null 2>&1\n",
      "Extensions in sw00038456003uw2_sk.fits has been summed to UVW2.fits\n",
      "\n",
      "4FGL_J0700.5-6610 sum completed!\n",
      "----------------------------------------------------------------\n",
      "\n",
      "uvotimsum infile=data/B3_0850+443/sw00014051001ubb_sk.fits outfile=data/B3_0850+443/B_0.fits | tee -a uvotimsum_log.txt >/dev/null 2>&1\n",
      "Extensions in sw00014051001ubb_sk.fits has been summed to B_0.fits\n",
      "\n",
      "uvotimsum infile=data/B3_0850+443/sw00014051002ubb_sk.fits outfile=data/B3_0850+443/B_1.fits | tee -a uvotimsum_log.txt >/dev/null 2>&1\n",
      "Extensions in sw00014051002ubb_sk.fits has been summed to B_1.fits\n",
      "\n",
      "['B_0.fits' 'B_1.fits'] has been summed to B.fits\n",
      "\n",
      "uvotimsum infile=data/B3_0850+443/sw00014051001um2_sk.fits outfile=data/B3_0850+443/UVM2_0.fits | tee -a uvotimsum_log.txt >/dev/null 2>&1\n",
      "Extensions in sw00014051001um2_sk.fits has been summed to UVM2_0.fits\n",
      "\n",
      "uvotimsum infile=data/B3_0850+443/sw00014051002um2_sk.fits outfile=data/B3_0850+443/UVM2_1.fits | tee -a uvotimsum_log.txt >/dev/null 2>&1\n",
      "Extensions in sw00014051002um2_sk.fits has been summed to UVM2_1.fits\n",
      "\n",
      "['UVM2_0.fits' 'UVM2_1.fits'] has been summed to UVM2.fits\n",
      "\n",
      "uvotimsum infile=data/B3_0850+443/sw00014051001uuu_sk.fits outfile=data/B3_0850+443/U_0.fits | tee -a uvotimsum_log.txt >/dev/null 2>&1\n",
      "Extensions in sw00014051001uuu_sk.fits has been summed to U_0.fits\n",
      "\n",
      "uvotimsum infile=data/B3_0850+443/sw00014051002uuu_sk.fits outfile=data/B3_0850+443/U_1.fits | tee -a uvotimsum_log.txt >/dev/null 2>&1\n",
      "Extensions in sw00014051002uuu_sk.fits has been summed to U_1.fits\n",
      "\n",
      "['U_0.fits' 'U_1.fits'] has been summed to U.fits\n",
      "\n",
      "uvotimsum infile=data/B3_0850+443/sw00014051001uvv_sk.fits outfile=data/B3_0850+443/V_0.fits | tee -a uvotimsum_log.txt >/dev/null 2>&1\n",
      "Extensions in sw00014051001uvv_sk.fits has been summed to V_0.fits\n",
      "\n",
      "uvotimsum infile=data/B3_0850+443/sw00014051002uvv_sk.fits outfile=data/B3_0850+443/V_1.fits | tee -a uvotimsum_log.txt >/dev/null 2>&1\n",
      "Extensions in sw00014051002uvv_sk.fits has been summed to V_1.fits\n",
      "\n",
      "['V_0.fits' 'V_1.fits'] has been summed to V.fits\n",
      "\n",
      "uvotimsum infile=data/B3_0850+443/sw00014051001uw1_sk.fits outfile=data/B3_0850+443/UVW1_0.fits | tee -a uvotimsum_log.txt >/dev/null 2>&1\n",
      "Extensions in sw00014051001uw1_sk.fits has been summed to UVW1_0.fits\n",
      "\n",
      "uvotimsum infile=data/B3_0850+443/sw00014051002uw1_sk.fits outfile=data/B3_0850+443/UVW1_1.fits | tee -a uvotimsum_log.txt >/dev/null 2>&1\n",
      "Extensions in sw00014051002uw1_sk.fits has been summed to UVW1_1.fits\n",
      "\n",
      "['UVW1_0.fits' 'UVW1_1.fits'] has been summed to UVW1.fits\n",
      "\n",
      "uvotimsum infile=data/B3_0850+443/sw00014051001uw2_sk.fits outfile=data/B3_0850+443/UVW2_0.fits | tee -a uvotimsum_log.txt >/dev/null 2>&1\n",
      "Extensions in sw00014051001uw2_sk.fits has been summed to UVW2_0.fits\n",
      "\n",
      "uvotimsum infile=data/B3_0850+443/sw00014051002uw2_sk.fits outfile=data/B3_0850+443/UVW2_1.fits | tee -a uvotimsum_log.txt >/dev/null 2>&1\n",
      "Extensions in sw00014051002uw2_sk.fits has been summed to UVW2_1.fits\n",
      "\n",
      "['UVW2_0.fits' 'UVW2_1.fits'] has been summed to UVW2.fits\n",
      "\n",
      "B3_0850+443 sum completed!\n",
      "----------------------------------------------------------------\n",
      "\n",
      "uvotimsum infile=data/87GB_213913.0+293303/sw00016150001ubb_sk.fits outfile=data/87GB_213913.0+293303/B.fits | tee -a uvotimsum_log.txt >/dev/null 2>&1\n",
      "Extensions in sw00016150001ubb_sk.fits has been summed to B.fits\n",
      "\n",
      "uvotimsum infile=data/87GB_213913.0+293303/sw00016150001um2_sk.fits outfile=data/87GB_213913.0+293303/UVM2.fits | tee -a uvotimsum_log.txt >/dev/null 2>&1\n",
      "Extensions in sw00016150001um2_sk.fits has been summed to UVM2.fits\n",
      "\n",
      "uvotimsum infile=data/87GB_213913.0+293303/sw00016150001uuu_sk.fits outfile=data/87GB_213913.0+293303/U.fits | tee -a uvotimsum_log.txt >/dev/null 2>&1\n",
      "Extensions in sw00016150001uuu_sk.fits has been summed to U.fits\n",
      "\n",
      "uvotimsum infile=data/87GB_213913.0+293303/sw00016150001uvv_sk.fits outfile=data/87GB_213913.0+293303/V.fits | tee -a uvotimsum_log.txt >/dev/null 2>&1\n",
      "Extensions in sw00016150001uvv_sk.fits has been summed to V.fits\n",
      "\n",
      "uvotimsum infile=data/87GB_213913.0+293303/sw00016150001uw1_sk.fits outfile=data/87GB_213913.0+293303/UVW1.fits | tee -a uvotimsum_log.txt >/dev/null 2>&1\n",
      "Extensions in sw00016150001uw1_sk.fits has been summed to UVW1.fits\n",
      "\n",
      "uvotimsum infile=data/87GB_213913.0+293303/sw00016150001uw2_sk.fits outfile=data/87GB_213913.0+293303/UVW2.fits | tee -a uvotimsum_log.txt >/dev/null 2>&1\n",
      "Extensions in sw00016150001uw2_sk.fits has been summed to UVW2.fits\n",
      "\n",
      "87GB_213913.0+293303 sum completed!\n",
      "----------------------------------------------------------------\n",
      "\n"
     ]
    }
   ],
   "source": [
    "swift_combine.sum_all_files()"
   ]
  },
  {
   "cell_type": "code",
   "execution_count": null,
   "id": "cf54d0c6-4604-402f-8e35-3f81be4f435c",
   "metadata": {},
   "outputs": [],
   "source": []
  }
 ],
 "metadata": {
  "kernelspec": {
   "display_name": "Python 3 (ipykernel)",
   "language": "python",
   "name": "python3"
  },
  "language_info": {
   "codemirror_mode": {
    "name": "ipython",
    "version": 3
   },
   "file_extension": ".py",
   "mimetype": "text/x-python",
   "name": "python",
   "nbconvert_exporter": "python",
   "pygments_lexer": "ipython3",
   "version": "3.9.19"
  }
 },
 "nbformat": 4,
 "nbformat_minor": 5
}
