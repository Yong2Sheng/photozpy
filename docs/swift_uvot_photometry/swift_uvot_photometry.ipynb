{
 "cells": [
  {
   "cell_type": "code",
   "execution_count": 1,
   "id": "496614cc-a084-4412-8aa4-64d98029ad1c",
   "metadata": {},
   "outputs": [],
   "source": [
    "%%capture\n",
    "from pathlib import Path\n",
    "from ccdproc import ImageFileCollection\n",
    "from photozpy import Telescope, HeaderCorrection, Telescope, SwiftDownload, mImageFileCollection, SwiftCombine\n",
    "import pandas as pd\n",
    "import copy\n",
    "from astropy.time import Time\n",
    "from astropy.coordinates import SkyCoord\n",
    "import astropy.units as u\n",
    "import numpy as np\n",
    "import shutil\n",
    "import os\n",
    "os.environ[\"HEADASNOQUERY\"]=\"\"\n",
    "os.environ['HEADASPROMPT'] = '/dev/null'"
   ]
  },
  {
   "cell_type": "markdown",
   "id": "f182dac9-8dc0-4945-80a1-cf055fab33ca",
   "metadata": {},
   "source": [
    "## Define the root directory to download and analyze data"
   ]
  },
  {
   "cell_type": "code",
   "execution_count": 2,
   "id": "7fb11b00-56b9-4242-bda4-ca09da54e8d8",
   "metadata": {},
   "outputs": [],
   "source": [
    "# set to the directory as you desire. It's the root directory of this notebook in default\n",
    "root_dir = Path(\"./data\")\n",
    "root_dir.mkdir(exist_ok=True)"
   ]
  },
  {
   "cell_type": "markdown",
   "id": "799a3582-1c64-4291-99e2-2f91419c2450",
   "metadata": {},
   "source": [
    "## Download data"
   ]
  },
  {
   "cell_type": "code",
   "execution_count": 3,
   "id": "b18076bf-0792-489c-a17f-c8ddf72a8273",
   "metadata": {},
   "outputs": [
    {
     "name": "stdout",
     "output_type": "stream",
     "text": [
      "Downloading data for 4FGL J0700.5-6610 ...\n",
      "00038456003 on 2024-02-15 23:24:02 is being downloaded, the uvot mode is 0x30ed\n"
     ]
    },
    {
     "data": {
      "application/vnd.jupyter.widget-view+json": {
       "model_id": "9c3ecca9ed0949628a448651df345748",
       "version_major": 2,
       "version_minor": 0
      },
      "text/plain": [
       "Downloading files:   0%|          | 0/18 [00:00<?, ?files/s]"
      ]
     },
     "metadata": {},
     "output_type": "display_data"
    },
    {
     "name": "stdout",
     "output_type": "stream",
     "text": [
      "00038456003 has been downloaded/examined, skipping ...\n",
      "Downloading data for B3 0850+443 ...\n",
      "00014051002 on 2021-02-10 11:02:02 is being downloaded, the uvot mode is 0x30ed\n"
     ]
    },
    {
     "data": {
      "application/vnd.jupyter.widget-view+json": {
       "model_id": "345917ae7e4841449af41c0a243ef0ad",
       "version_major": 2,
       "version_minor": 0
      },
      "text/plain": [
       "Downloading files:   0%|          | 0/18 [00:00<?, ?files/s]"
      ]
     },
     "metadata": {},
     "output_type": "display_data"
    },
    {
     "name": "stdout",
     "output_type": "stream",
     "text": [
      "00014051001 on 2021-02-07 16:01:02 is being downloaded, the uvot mode is 0x30ed\n"
     ]
    },
    {
     "data": {
      "application/vnd.jupyter.widget-view+json": {
       "model_id": "ec60bcbecc094fafb919a3e8ab149bc8",
       "version_major": 2,
       "version_minor": 0
      },
      "text/plain": [
       "Downloading files:   0%|          | 0/18 [00:00<?, ?files/s]"
      ]
     },
     "metadata": {},
     "output_type": "display_data"
    },
    {
     "name": "stdout",
     "output_type": "stream",
     "text": [
      "00014051001 has been downloaded/examined, skipping ...\n",
      "00014051001 has been downloaded/examined, skipping ...\n",
      "Downloading data for 87GB 213913.0+293303 ...\n",
      "00016150001 on 2023-07-26 23:41:02 is being downloaded, the uvot mode is 0x30ed\n"
     ]
    },
    {
     "data": {
      "application/vnd.jupyter.widget-view+json": {
       "model_id": "1338f2439989495d865a3d362e21f19b",
       "version_major": 2,
       "version_minor": 0
      },
      "text/plain": [
       "Downloading files:   0%|          | 0/18 [00:00<?, ?files/s]"
      ]
     },
     "metadata": {},
     "output_type": "display_data"
    },
    {
     "name": "stdout",
     "output_type": "stream",
     "text": [
      "00016150001 has been downloaded/examined, skipping ...\n"
     ]
    }
   ],
   "source": [
    "# create the swift download instance\n",
    "swift_download = SwiftDownload(download_dir = root_dir)\n",
    "\n",
    "# parse the obsquery infor from a csv file\n",
    "swift_download.set_obsquery_info_from_csv(\"source_catalog.csv\")\n",
    "\n",
    "# download data\n",
    "swift_download.download_swift_data(organize = True)"
   ]
  },
  {
   "cell_type": "markdown",
   "id": "2fed1fe7-5dba-4cd1-acbc-49cc81d52fc6",
   "metadata": {},
   "source": [
    "## Sum extensions within and across observations"
   ]
  },
  {
   "cell_type": "code",
   "execution_count": 4,
   "id": "9bb64d85-1caf-42e0-b26c-7422f8403e6e",
   "metadata": {},
   "outputs": [
    {
     "name": "stdout",
     "output_type": "stream",
     "text": [
      "[PosixPath('data/B3_0850+443'), PosixPath('data/4FGL_J0700.5-6610'), PosixPath('data/87GB_213913.0+293303')]\n"
     ]
    }
   ],
   "source": [
    "# Get the directory for each source\n",
    "paths = [path for path in root_dir.iterdir() if path.is_dir()]\n",
    "print(paths)\n",
    "\n",
    "# Hidden directories will be included if exists, make sure you remove the directory that you don't want.\n",
    "#paths.remove(paths[1])\n",
    "#print(paths)"
   ]
  },
  {
   "cell_type": "code",
   "execution_count": 5,
   "id": "e0675049-517d-4bad-86a5-9f899c276785",
   "metadata": {},
   "outputs": [],
   "source": [
    "# Define a multi image collection object\n",
    "multi_collection = mImageFileCollection(image_dir = paths)\n",
    "\n",
    "# Define the swift telescope\n",
    "swift_telescope = Telescope(telescope = \"Swift\", mode = \"0X30ED\", ccd = \"UVOT\")"
   ]
  },
  {
   "cell_type": "code",
   "execution_count": 6,
   "id": "e4dd225d-f464-41cb-bfb2-65dff28af5c3",
   "metadata": {},
   "outputs": [],
   "source": [
    "# Sum the extensions\n",
    "swift_combine = SwiftCombine(image_collection = multi_collection, telescope = swift_telescope)"
   ]
  },
  {
   "cell_type": "code",
   "execution_count": 7,
   "id": "05155cfe-ebdd-4d37-be2a-9b1885300efd",
   "metadata": {},
   "outputs": [
    {
     "name": "stdout",
     "output_type": "stream",
     "text": [
      "uvotimsum infile=data/B3_0850+443/sw00014051001ubb_sk.fits outfile=data/B3_0850+443/B_0.fits | tee -a uvotimsum_log.txt >/dev/null 2>&1\n",
      "Extensions in sw00014051001ubb_sk.fits has been summed to B_0.fits\n",
      "\n",
      "uvotimsum infile=data/B3_0850+443/sw00014051002ubb_sk.fits outfile=data/B3_0850+443/B_1.fits | tee -a uvotimsum_log.txt >/dev/null 2>&1\n",
      "Extensions in sw00014051002ubb_sk.fits has been summed to B_1.fits\n",
      "\n",
      "['B_0.fits' 'B_1.fits'] has been summed to B.fits\n",
      "\n",
      "uvotimsum infile=data/B3_0850+443/sw00014051001um2_sk.fits outfile=data/B3_0850+443/UVM2_0.fits | tee -a uvotimsum_log.txt >/dev/null 2>&1\n",
      "Extensions in sw00014051001um2_sk.fits has been summed to UVM2_0.fits\n",
      "\n",
      "uvotimsum infile=data/B3_0850+443/sw00014051002um2_sk.fits outfile=data/B3_0850+443/UVM2_1.fits | tee -a uvotimsum_log.txt >/dev/null 2>&1\n",
      "Extensions in sw00014051002um2_sk.fits has been summed to UVM2_1.fits\n",
      "\n",
      "['UVM2_0.fits' 'UVM2_1.fits'] has been summed to UVM2.fits\n",
      "\n",
      "uvotimsum infile=data/B3_0850+443/sw00014051001uuu_sk.fits outfile=data/B3_0850+443/U_0.fits | tee -a uvotimsum_log.txt >/dev/null 2>&1\n",
      "Extensions in sw00014051001uuu_sk.fits has been summed to U_0.fits\n",
      "\n",
      "uvotimsum infile=data/B3_0850+443/sw00014051002uuu_sk.fits outfile=data/B3_0850+443/U_1.fits | tee -a uvotimsum_log.txt >/dev/null 2>&1\n",
      "Extensions in sw00014051002uuu_sk.fits has been summed to U_1.fits\n",
      "\n",
      "['U_0.fits' 'U_1.fits'] has been summed to U.fits\n",
      "\n",
      "uvotimsum infile=data/B3_0850+443/sw00014051001uvv_sk.fits outfile=data/B3_0850+443/V_0.fits | tee -a uvotimsum_log.txt >/dev/null 2>&1\n",
      "Extensions in sw00014051001uvv_sk.fits has been summed to V_0.fits\n",
      "\n",
      "uvotimsum infile=data/B3_0850+443/sw00014051002uvv_sk.fits outfile=data/B3_0850+443/V_1.fits | tee -a uvotimsum_log.txt >/dev/null 2>&1\n",
      "Extensions in sw00014051002uvv_sk.fits has been summed to V_1.fits\n",
      "\n",
      "['V_0.fits' 'V_1.fits'] has been summed to V.fits\n",
      "\n",
      "uvotimsum infile=data/B3_0850+443/sw00014051001uw1_sk.fits outfile=data/B3_0850+443/UVW1_0.fits | tee -a uvotimsum_log.txt >/dev/null 2>&1\n",
      "Extensions in sw00014051001uw1_sk.fits has been summed to UVW1_0.fits\n",
      "\n",
      "uvotimsum infile=data/B3_0850+443/sw00014051002uw1_sk.fits outfile=data/B3_0850+443/UVW1_1.fits | tee -a uvotimsum_log.txt >/dev/null 2>&1\n",
      "Extensions in sw00014051002uw1_sk.fits has been summed to UVW1_1.fits\n",
      "\n",
      "['UVW1_0.fits' 'UVW1_1.fits'] has been summed to UVW1.fits\n",
      "\n",
      "uvotimsum infile=data/B3_0850+443/sw00014051001uw2_sk.fits outfile=data/B3_0850+443/UVW2_0.fits | tee -a uvotimsum_log.txt >/dev/null 2>&1\n",
      "Extensions in sw00014051001uw2_sk.fits has been summed to UVW2_0.fits\n",
      "\n",
      "uvotimsum infile=data/B3_0850+443/sw00014051002uw2_sk.fits outfile=data/B3_0850+443/UVW2_1.fits | tee -a uvotimsum_log.txt >/dev/null 2>&1\n",
      "Extensions in sw00014051002uw2_sk.fits has been summed to UVW2_1.fits\n",
      "\n",
      "['UVW2_0.fits' 'UVW2_1.fits'] has been summed to UVW2.fits\n",
      "\n",
      "B3_0850+443 sum completed!\n",
      "----------------------------------------------------------------\n",
      "\n",
      "uvotimsum infile=data/4FGL_J0700.5-6610/sw00038456003ubb_sk.fits outfile=data/4FGL_J0700.5-6610/B.fits | tee -a uvotimsum_log.txt >/dev/null 2>&1\n",
      "Extensions in sw00038456003ubb_sk.fits has been summed to B.fits\n",
      "\n",
      "uvotimsum infile=data/4FGL_J0700.5-6610/sw00038456003um2_sk.fits outfile=data/4FGL_J0700.5-6610/UVM2.fits | tee -a uvotimsum_log.txt >/dev/null 2>&1\n",
      "Extensions in sw00038456003um2_sk.fits has been summed to UVM2.fits\n",
      "\n",
      "uvotimsum infile=data/4FGL_J0700.5-6610/sw00038456003uuu_sk.fits outfile=data/4FGL_J0700.5-6610/U.fits | tee -a uvotimsum_log.txt >/dev/null 2>&1\n",
      "Extensions in sw00038456003uuu_sk.fits has been summed to U.fits\n",
      "\n",
      "uvotimsum infile=data/4FGL_J0700.5-6610/sw00038456003uvv_sk.fits outfile=data/4FGL_J0700.5-6610/V.fits | tee -a uvotimsum_log.txt >/dev/null 2>&1\n",
      "Extensions in sw00038456003uvv_sk.fits has been summed to V.fits\n",
      "\n",
      "uvotimsum infile=data/4FGL_J0700.5-6610/sw00038456003uw1_sk.fits outfile=data/4FGL_J0700.5-6610/UVW1.fits | tee -a uvotimsum_log.txt >/dev/null 2>&1\n",
      "Extensions in sw00038456003uw1_sk.fits has been summed to UVW1.fits\n",
      "\n",
      "uvotimsum infile=data/4FGL_J0700.5-6610/sw00038456003uw2_sk.fits outfile=data/4FGL_J0700.5-6610/UVW2.fits | tee -a uvotimsum_log.txt >/dev/null 2>&1\n",
      "Extensions in sw00038456003uw2_sk.fits has been summed to UVW2.fits\n",
      "\n",
      "4FGL_J0700.5-6610 sum completed!\n",
      "----------------------------------------------------------------\n",
      "\n",
      "uvotimsum infile=data/87GB_213913.0+293303/sw00016150001ubb_sk.fits outfile=data/87GB_213913.0+293303/B.fits | tee -a uvotimsum_log.txt >/dev/null 2>&1\n",
      "Extensions in sw00016150001ubb_sk.fits has been summed to B.fits\n",
      "\n",
      "uvotimsum infile=data/87GB_213913.0+293303/sw00016150001um2_sk.fits outfile=data/87GB_213913.0+293303/UVM2.fits | tee -a uvotimsum_log.txt >/dev/null 2>&1\n",
      "Extensions in sw00016150001um2_sk.fits has been summed to UVM2.fits\n",
      "\n",
      "uvotimsum infile=data/87GB_213913.0+293303/sw00016150001uuu_sk.fits outfile=data/87GB_213913.0+293303/U.fits | tee -a uvotimsum_log.txt >/dev/null 2>&1\n",
      "Extensions in sw00016150001uuu_sk.fits has been summed to U.fits\n",
      "\n",
      "uvotimsum infile=data/87GB_213913.0+293303/sw00016150001uvv_sk.fits outfile=data/87GB_213913.0+293303/V.fits | tee -a uvotimsum_log.txt >/dev/null 2>&1\n",
      "Extensions in sw00016150001uvv_sk.fits has been summed to V.fits\n",
      "\n",
      "uvotimsum infile=data/87GB_213913.0+293303/sw00016150001uw1_sk.fits outfile=data/87GB_213913.0+293303/UVW1.fits | tee -a uvotimsum_log.txt >/dev/null 2>&1\n",
      "Extensions in sw00016150001uw1_sk.fits has been summed to UVW1.fits\n",
      "\n",
      "uvotimsum infile=data/87GB_213913.0+293303/sw00016150001uw2_sk.fits outfile=data/87GB_213913.0+293303/UVW2.fits | tee -a uvotimsum_log.txt >/dev/null 2>&1\n",
      "Extensions in sw00016150001uw2_sk.fits has been summed to UVW2.fits\n",
      "\n",
      "87GB_213913.0+293303 sum completed!\n",
      "----------------------------------------------------------------\n",
      "\n"
     ]
    }
   ],
   "source": [
    "swift_combine.sum_all_files()"
   ]
  },
  {
   "cell_type": "code",
   "execution_count": 12,
   "id": "b3cc3e29-4d3d-4dce-8a16-d74a3c5de091",
   "metadata": {},
   "outputs": [
    {
     "name": "stdout",
     "output_type": "stream",
     "text": [
      "B30850+443\n"
     ]
    }
   ],
   "source": [
    "with fits.open(\"data/B3_0850+443/sw00014051001ubb_sk.fits\", mode = \"update\") as hdul:\n",
    "    print(hdul[0].header[\"OBJECT\"])"
   ]
  },
  {
   "cell_type": "code",
   "execution_count": 15,
   "id": "a924c7ad-1c87-43cb-a799-40b8b57cd3d2",
   "metadata": {},
   "outputs": [],
   "source": [
    "from astropy.io import fits\n",
    "header = fits.getheader(\"data/B3_0850+443/B.fits\",ext = 0)"
   ]
  },
  {
   "cell_type": "code",
   "execution_count": 16,
   "id": "111b920b-e5e3-4207-9b2b-9f4f3257a633",
   "metadata": {},
   "outputs": [
    {
     "data": {
      "text/plain": [
       "'B3 0850+443'"
      ]
     },
     "execution_count": 16,
     "metadata": {},
     "output_type": "execute_result"
    }
   ],
   "source": [
    "header[\"OBJECT\"]"
   ]
  },
  {
   "cell_type": "markdown",
   "id": "69eff6e0-3010-4d09-8b16-ec602ff32102",
   "metadata": {},
   "source": [
    "# Tests"
   ]
  },
  {
   "cell_type": "code",
   "execution_count": 25,
   "id": "d6badb51-2dd0-47ef-b33b-62a1e9af1f6e",
   "metadata": {},
   "outputs": [],
   "source": [
    "import pandas as pd"
   ]
  },
  {
   "cell_type": "code",
   "execution_count": 33,
   "id": "f1d6c01a-420a-491a-96dd-005f210d8dd1",
   "metadata": {},
   "outputs": [
    {
     "data": {
      "text/html": [
       "<div>\n",
       "<style scoped>\n",
       "    .dataframe tbody tr th:only-of-type {\n",
       "        vertical-align: middle;\n",
       "    }\n",
       "\n",
       "    .dataframe tbody tr th {\n",
       "        vertical-align: top;\n",
       "    }\n",
       "\n",
       "    .dataframe thead th {\n",
       "        text-align: right;\n",
       "    }\n",
       "</style>\n",
       "<table border=\"1\" class=\"dataframe\">\n",
       "  <thead>\n",
       "    <tr style=\"text-align: right;\">\n",
       "      <th></th>\n",
       "      <th>name</th>\n",
       "      <th>targetid</th>\n",
       "      <th>window_lower</th>\n",
       "      <th>window_upper</th>\n",
       "      <th>ra</th>\n",
       "      <th>dec</th>\n",
       "    </tr>\n",
       "  </thead>\n",
       "  <tbody>\n",
       "    <tr>\n",
       "      <th>0</th>\n",
       "      <td>4FGL J0700.5-6610</td>\n",
       "      <td>38456</td>\n",
       "      <td>2024-01-01</td>\n",
       "      <td>2024-03-10</td>\n",
       "      <td>105.13021</td>\n",
       "      <td>-66.17923</td>\n",
       "    </tr>\n",
       "    <tr>\n",
       "      <th>1</th>\n",
       "      <td>B3 0850+443</td>\n",
       "      <td>14051</td>\n",
       "      <td>2021-01-01</td>\n",
       "      <td>2021-03-10</td>\n",
       "      <td>133.54121</td>\n",
       "      <td>44.14175</td>\n",
       "    </tr>\n",
       "    <tr>\n",
       "      <th>2</th>\n",
       "      <td>87GB 213913.0+293303</td>\n",
       "      <td>16150</td>\n",
       "      <td>2023-07-10</td>\n",
       "      <td>2023-08-10</td>\n",
       "      <td>325.34954</td>\n",
       "      <td>29.78506</td>\n",
       "    </tr>\n",
       "  </tbody>\n",
       "</table>\n",
       "</div>"
      ],
      "text/plain": [
       "                   name  targetid window_lower window_upper         ra  \\\n",
       "0     4FGL J0700.5-6610     38456   2024-01-01   2024-03-10  105.13021   \n",
       "1           B3 0850+443     14051   2021-01-01   2021-03-10  133.54121   \n",
       "2  87GB 213913.0+293303     16150   2023-07-10   2023-08-10  325.34954   \n",
       "\n",
       "        dec  \n",
       "0 -66.17923  \n",
       "1  44.14175  \n",
       "2  29.78506  "
      ]
     },
     "execution_count": 33,
     "metadata": {},
     "output_type": "execute_result"
    }
   ],
   "source": [
    "df = pd.read_csv(\"source_catalog.csv\")\n",
    "df"
   ]
  },
  {
   "cell_type": "code",
   "execution_count": 43,
   "id": "691c4a05-58d4-4acd-a2c0-f8a029c4ecca",
   "metadata": {},
   "outputs": [],
   "source": [
    "a = df[df[\"name\"] == \"B3 0850+443\"]"
   ]
  },
  {
   "cell_type": "code",
   "execution_count": 44,
   "id": "4fa37ed0-b837-4b80-aaaa-21a1cdbc9afe",
   "metadata": {},
   "outputs": [
    {
     "data": {
      "text/plain": [
       "False"
      ]
     },
     "execution_count": 44,
     "metadata": {},
     "output_type": "execute_result"
    }
   ],
   "source": [
    "a.empty"
   ]
  },
  {
   "cell_type": "code",
   "execution_count": 48,
   "id": "a2311644-cf2b-46b6-b132-8a413a16c7e0",
   "metadata": {},
   "outputs": [
    {
     "data": {
      "text/plain": [
       "PosixPath('data/B3_0850+443')"
      ]
     },
     "execution_count": 48,
     "metadata": {},
     "output_type": "execute_result"
    }
   ],
   "source": [
    "multi_collection[0].location"
   ]
  },
  {
   "cell_type": "code",
   "execution_count": null,
   "id": "dc693ad2-437e-4395-87a8-aeaabcd887f5",
   "metadata": {},
   "outputs": [],
   "source": []
  },
  {
   "cell_type": "code",
   "execution_count": null,
   "id": "16d3edd9-dfaf-4984-b351-d0bd51ab0edd",
   "metadata": {},
   "outputs": [],
   "source": []
  }
 ],
 "metadata": {
  "kernelspec": {
   "display_name": "Python 3 (ipykernel)",
   "language": "python",
   "name": "python3"
  },
  "language_info": {
   "codemirror_mode": {
    "name": "ipython",
    "version": 3
   },
   "file_extension": ".py",
   "mimetype": "text/x-python",
   "name": "python",
   "nbconvert_exporter": "python",
   "pygments_lexer": "ipython3",
   "version": "3.9.18"
  }
 },
 "nbformat": 4,
 "nbformat_minor": 5
}
