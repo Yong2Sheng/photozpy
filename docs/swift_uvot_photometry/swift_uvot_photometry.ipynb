{
 "cells": [
  {
   "cell_type": "code",
   "execution_count": 1,
   "id": "496614cc-a084-4412-8aa4-64d98029ad1c",
   "metadata": {},
   "outputs": [],
   "source": [
    "%%capture\n",
    "from pathlib import Path\n",
    "from ccdproc import ImageFileCollection\n",
    "from photozpy import Telescope, HeaderCorrection, Telescope, SwiftDownload, mImageFileCollection, SwiftCombine, PhotozRegions\n",
    "import pandas as pd\n",
    "import copy\n",
    "from astropy.time import Time\n",
    "from astropy.coordinates import SkyCoord\n",
    "import astropy.units as u\n",
    "import numpy as np\n",
    "import shutil\n",
    "import os\n",
    "from astropy.io import fits\n",
    "os.environ[\"HEADASNOQUERY\"]=\"\"\n",
    "os.environ['HEADASPROMPT'] = '/dev/null'\n",
    "\n",
    "import warnings\n",
    "from astropy.utils.exceptions import AstropyWarning\n",
    "warnings.simplefilter('ignore', category=AstropyWarning)"
   ]
  },
  {
   "cell_type": "markdown",
   "id": "f182dac9-8dc0-4945-80a1-cf055fab33ca",
   "metadata": {},
   "source": [
    "## Define the root directory to download and analyze data"
   ]
  },
  {
   "cell_type": "code",
   "execution_count": 2,
   "id": "7fb11b00-56b9-4242-bda4-ca09da54e8d8",
   "metadata": {},
   "outputs": [],
   "source": [
    "# set to the directory as you desire. It's the root directory of this notebook in default\n",
    "root_dir = Path(\"./data\")\n",
    "root_dir.mkdir(exist_ok=True)"
   ]
  },
  {
   "cell_type": "markdown",
   "id": "799a3582-1c64-4291-99e2-2f91419c2450",
   "metadata": {
    "jp-MarkdownHeadingCollapsed": true
   },
   "source": [
    "## Download data"
   ]
  },
  {
   "cell_type": "code",
   "execution_count": 7,
   "id": "b18076bf-0792-489c-a17f-c8ddf72a8273",
   "metadata": {},
   "outputs": [
    {
     "name": "stdout",
     "output_type": "stream",
     "text": [
      "Downloading data for Ton 1015 ...\n",
      "00038162004 on 2021-01-27 09:03:02 is being downloaded, the uvot mode is 0x30ed\n"
     ]
    },
    {
     "data": {
      "application/vnd.jupyter.widget-view+json": {
       "model_id": "54de564b41874b81883b824a79c5ab91",
       "version_major": 2,
       "version_minor": 0
      },
      "text/plain": [
       "Downloading files:   0%|          | 0/18 [00:00<?, ?files/s]"
      ]
     },
     "metadata": {},
     "output_type": "display_data"
    },
    {
     "name": "stdout",
     "output_type": "stream",
     "text": [
      "00038162004 has been downloaded/examined, skipping ...\n",
      "Downloading data for 1RXS J085930.5+621737 ...\n",
      "00014040001 on 2021-02-05 18:02:01 is being downloaded, the uvot mode is 0x30ed\n"
     ]
    },
    {
     "data": {
      "application/vnd.jupyter.widget-view+json": {
       "model_id": "e2adf9f6262e46878c2cb66d35a3f890",
       "version_major": 2,
       "version_minor": 0
      },
      "text/plain": [
       "Downloading files:   0%|          | 0/18 [00:00<?, ?files/s]"
      ]
     },
     "metadata": {},
     "output_type": "display_data"
    },
    {
     "name": "stdout",
     "output_type": "stream",
     "text": [
      "00014040001 has been downloaded/examined, skipping ...\n",
      "00014040001 has been downloaded/examined, skipping ...\n",
      "Downloading data for B3 0850+443 ...\n",
      "00014051002 on 2021-02-10 11:02:02 is being downloaded, the uvot mode is 0x30ed\n"
     ]
    },
    {
     "data": {
      "application/vnd.jupyter.widget-view+json": {
       "model_id": "eb0cfeafa7fb49aca1968c585720bc87",
       "version_major": 2,
       "version_minor": 0
      },
      "text/plain": [
       "Downloading files:   0%|          | 0/18 [00:00<?, ?files/s]"
      ]
     },
     "metadata": {},
     "output_type": "display_data"
    },
    {
     "name": "stdout",
     "output_type": "stream",
     "text": [
      "00014051001 on 2021-02-07 16:01:02 is being downloaded, the uvot mode is 0x30ed\n"
     ]
    },
    {
     "data": {
      "application/vnd.jupyter.widget-view+json": {
       "model_id": "9d367a727834463783d25486ea98f8dc",
       "version_major": 2,
       "version_minor": 0
      },
      "text/plain": [
       "Downloading files:   0%|          | 0/18 [00:00<?, ?files/s]"
      ]
     },
     "metadata": {},
     "output_type": "display_data"
    },
    {
     "name": "stdout",
     "output_type": "stream",
     "text": [
      "00014051001 has been downloaded/examined, skipping ...\n",
      "00014051001 has been downloaded/examined, skipping ...\n",
      "Downloading data for SDSS J085135.93+552834.5 ...\n",
      "00014073001 on 2021-02-17 10:12:02 is being downloaded, the uvot mode is 0x30ed\n"
     ]
    },
    {
     "data": {
      "application/vnd.jupyter.widget-view+json": {
       "model_id": "d08c59e4fb2e467b84e5d9205daac9ae",
       "version_major": 2,
       "version_minor": 0
      },
      "text/plain": [
       "Downloading files:   0%|          | 0/18 [00:00<?, ?files/s]"
      ]
     },
     "metadata": {},
     "output_type": "display_data"
    },
    {
     "name": "stdout",
     "output_type": "stream",
     "text": [
      "00014073001 has been downloaded/examined, skipping ...\n",
      "Downloading data for GB6 J0850+4855 ...\n",
      "00014083001 on 2021-02-24 18:58:02 is being downloaded, the uvot mode is 0x30ed\n"
     ]
    },
    {
     "data": {
      "application/vnd.jupyter.widget-view+json": {
       "model_id": "0f222af0fb654878909bcbf9c5b4b786",
       "version_major": 2,
       "version_minor": 0
      },
      "text/plain": [
       "Downloading files:   0%|          | 0/18 [00:00<?, ?files/s]"
      ]
     },
     "metadata": {},
     "output_type": "display_data"
    },
    {
     "name": "stdout",
     "output_type": "stream",
     "text": [
      "00014083001 has been downloaded/examined, skipping ...\n",
      "Downloading data for GB6 J0848+6605 ...\n",
      "00014092001 uvod mode 0x2251 is not the one you requested as 0x30ed, skipping ...\n",
      "00014092001 has been downloaded/examined, skipping ...\n",
      "00014092001 has been downloaded/examined, skipping ...\n",
      "Downloading data for TXS 0846+051 ...\n",
      "00014106001 on 2021-03-07 08:23:02 is being downloaded, the uvot mode is 0x30ed\n"
     ]
    },
    {
     "data": {
      "application/vnd.jupyter.widget-view+json": {
       "model_id": "a771a64cff214afc9c6ee168310f7a91",
       "version_major": 2,
       "version_minor": 0
      },
      "text/plain": [
       "Downloading files:   0%|          | 0/18 [00:00<?, ?files/s]"
      ]
     },
     "metadata": {},
     "output_type": "display_data"
    },
    {
     "name": "stdout",
     "output_type": "stream",
     "text": [
      "00014106001 has been downloaded/examined, skipping ...\n",
      "Downloading data for SDSS J081649.78+205106.4 ...\n",
      "00083796006 on 2021-03-29 13:58:02 is being downloaded, the uvot mode is 0x30ed\n"
     ]
    },
    {
     "data": {
      "application/vnd.jupyter.widget-view+json": {
       "model_id": "8e8e039f539f4722a19030eb320ee08a",
       "version_major": 2,
       "version_minor": 0
      },
      "text/plain": [
       "Downloading files:   0%|          | 0/18 [00:00<?, ?files/s]"
      ]
     },
     "metadata": {},
     "output_type": "display_data"
    },
    {
     "name": "stdout",
     "output_type": "stream",
     "text": [
      "00083796005 on 2021-03-20 13:24:02 is being downloaded, the uvot mode is 0x30ed\n"
     ]
    },
    {
     "data": {
      "application/vnd.jupyter.widget-view+json": {
       "model_id": "0f3675ba5523460a92e235b54606c9c1",
       "version_major": 2,
       "version_minor": 0
      },
      "text/plain": [
       "Downloading files:   0%|          | 0/15 [00:00<?, ?files/s]"
      ]
     },
     "metadata": {},
     "output_type": "display_data"
    },
    {
     "name": "stdout",
     "output_type": "stream",
     "text": [
      "00083796004 on 2021-03-16 06:16:01 is being downloaded, the uvot mode is 0x30ed\n"
     ]
    },
    {
     "data": {
      "application/vnd.jupyter.widget-view+json": {
       "model_id": "d9986113c67f4c67ab60dc3e7848dc7d",
       "version_major": 2,
       "version_minor": 0
      },
      "text/plain": [
       "Downloading files:   0%|          | 0/13 [00:00<?, ?files/s]"
      ]
     },
     "metadata": {},
     "output_type": "display_data"
    },
    {
     "name": "stdout",
     "output_type": "stream",
     "text": [
      "00083796004 has been downloaded/examined, skipping ...\n",
      "00083796003 on 2021-03-15 13:44:02 is being downloaded, the uvot mode is 0x30ed\n"
     ]
    },
    {
     "data": {
      "application/vnd.jupyter.widget-view+json": {
       "model_id": "0457e7a6757642aa9ab46fa200cf70a0",
       "version_major": 2,
       "version_minor": 0
      },
      "text/plain": [
       "Downloading files:   0%|          | 0/18 [00:00<?, ?files/s]"
      ]
     },
     "metadata": {},
     "output_type": "display_data"
    },
    {
     "name": "stdout",
     "output_type": "stream",
     "text": [
      "Downloading data for NVSS J084411+531250 ...\n",
      "00039147007 on 2021-03-30 22:16:02 is being downloaded, the uvot mode is 0x30ed\n"
     ]
    },
    {
     "data": {
      "application/vnd.jupyter.widget-view+json": {
       "model_id": "41e0cdc8ee004c5eaafd17428de461b9",
       "version_major": 2,
       "version_minor": 0
      },
      "text/plain": [
       "Downloading files:   0%|          | 0/18 [00:00<?, ?files/s]"
      ]
     },
     "metadata": {},
     "output_type": "display_data"
    },
    {
     "name": "stdout",
     "output_type": "stream",
     "text": [
      "00039147007 has been downloaded/examined, skipping ...\n",
      "Downloading data for NVSS J132758+252750 ...\n",
      "00014215002 on 2021-04-13 16:08:02 is being downloaded, the uvot mode is 0x30ed\n"
     ]
    },
    {
     "data": {
      "application/vnd.jupyter.widget-view+json": {
       "model_id": "5dc5240c4ada44299885e96e2f58b25e",
       "version_major": 2,
       "version_minor": 0
      },
      "text/plain": [
       "Downloading files:   0%|          | 0/18 [00:00<?, ?files/s]"
      ]
     },
     "metadata": {},
     "output_type": "display_data"
    },
    {
     "name": "stdout",
     "output_type": "stream",
     "text": [
      "00014215002 has been downloaded/examined, skipping ...\n"
     ]
    }
   ],
   "source": [
    "# create the swift download instance\n",
    "swift_download = SwiftDownload(download_dir = root_dir)\n",
    "\n",
    "# parse the obsquery infor from a csv file\n",
    "swift_download.set_obsquery_info_from_csv(\"group_1_source_catalog.csv\")\n",
    "\n",
    "# download data\n",
    "swift_download.download_swift_data(organize = True)"
   ]
  },
  {
   "cell_type": "markdown",
   "id": "2fed1fe7-5dba-4cd1-acbc-49cc81d52fc6",
   "metadata": {
    "jp-MarkdownHeadingCollapsed": true
   },
   "source": [
    "## Sum extensions within and across observations"
   ]
  },
  {
   "cell_type": "code",
   "execution_count": 3,
   "id": "9bb64d85-1caf-42e0-b26c-7422f8403e6e",
   "metadata": {},
   "outputs": [
    {
     "name": "stdout",
     "output_type": "stream",
     "text": [
      "data/Ton_1015\n",
      "data/1RXS_J085930.5+621737\n",
      "data/B3_0850+443\n",
      "data/SDSS_J085135.93+552834.5\n",
      "data/GB6_J0850+4855\n",
      "data/TXS_0846+051\n",
      "data/SDSS_J081649.78+205106.4\n",
      "data/NVSS_J084411+531250\n",
      "data/NVSS_J132758+252750\n"
     ]
    }
   ],
   "source": [
    "# Get the directory for each source (only when the source has obervations)\n",
    "\n",
    "paths = [path for path in root_dir.iterdir() if any(path.iterdir())]\n",
    "\n",
    "for path in paths:\n",
    "    print(path)\n",
    "\n",
    "# Hidden directories will be included if exists, make sure you remove the directory that you don't want.\n",
    "#paths.remove(paths[1])\n",
    "#print(paths)"
   ]
  },
  {
   "cell_type": "code",
   "execution_count": 4,
   "id": "e0675049-517d-4bad-86a5-9f899c276785",
   "metadata": {},
   "outputs": [],
   "source": [
    "# Define a multi image collection object\n",
    "multi_collection = mImageFileCollection(image_dir = paths)\n",
    "\n",
    "# Define the swift telescope\n",
    "swift_telescope = Telescope(telescope = \"Swift\", mode = \"0X30ED\", ccd = \"UVOT\")"
   ]
  },
  {
   "cell_type": "code",
   "execution_count": 5,
   "id": "e4dd225d-f464-41cb-bfb2-65dff28af5c3",
   "metadata": {},
   "outputs": [],
   "source": [
    "# Sum the extensions\n",
    "swift_combine = SwiftCombine(image_collection = multi_collection, telescope = swift_telescope)"
   ]
  },
  {
   "cell_type": "code",
   "execution_count": 6,
   "id": "05155cfe-ebdd-4d37-be2a-9b1885300efd",
   "metadata": {},
   "outputs": [
    {
     "name": "stdout",
     "output_type": "stream",
     "text": [
      "uvotimsum infile=data/Ton_1015/sw00038162004ubb_sk.fits outfile=data/Ton_1015/B.fits | tee -a uvotimsum_log.txt >/dev/null 2>&1\n",
      "Extensions in sw00038162004ubb_sk.fits has been summed to B.fits\n",
      "\n",
      "uvotimsum infile=data/Ton_1015/sw00038162004um2_sk.fits outfile=data/Ton_1015/UVM2.fits | tee -a uvotimsum_log.txt >/dev/null 2>&1\n",
      "Extensions in sw00038162004um2_sk.fits has been summed to UVM2.fits\n",
      "\n",
      "uvotimsum infile=data/Ton_1015/sw00038162004uuu_sk.fits outfile=data/Ton_1015/U.fits | tee -a uvotimsum_log.txt >/dev/null 2>&1\n",
      "Extensions in sw00038162004uuu_sk.fits has been summed to U.fits\n",
      "\n",
      "uvotimsum infile=data/Ton_1015/sw00038162004uvv_sk.fits outfile=data/Ton_1015/V.fits | tee -a uvotimsum_log.txt >/dev/null 2>&1\n",
      "Extensions in sw00038162004uvv_sk.fits has been summed to V.fits\n",
      "\n",
      "uvotimsum infile=data/Ton_1015/sw00038162004uw1_sk.fits outfile=data/Ton_1015/UVW1.fits | tee -a uvotimsum_log.txt >/dev/null 2>&1\n",
      "Extensions in sw00038162004uw1_sk.fits has been summed to UVW1.fits\n",
      "\n",
      "uvotimsum infile=data/Ton_1015/sw00038162004uw2_sk.fits outfile=data/Ton_1015/UVW2.fits | tee -a uvotimsum_log.txt >/dev/null 2>&1\n",
      "Extensions in sw00038162004uw2_sk.fits has been summed to UVW2.fits\n",
      "\n",
      "Ton_1015 sum completed!\n",
      "----------------------------------------------------------------\n",
      "\n",
      "uvotimsum infile=data/1RXS_J085930.5+621737/sw00014040001ubb_sk.fits outfile=data/1RXS_J085930.5+621737/B.fits | tee -a uvotimsum_log.txt >/dev/null 2>&1\n",
      "Extensions in sw00014040001ubb_sk.fits has been summed to B.fits\n",
      "\n",
      "uvotimsum infile=data/1RXS_J085930.5+621737/sw00014040001um2_sk.fits outfile=data/1RXS_J085930.5+621737/UVM2.fits | tee -a uvotimsum_log.txt >/dev/null 2>&1\n",
      "Extensions in sw00014040001um2_sk.fits has been summed to UVM2.fits\n",
      "\n",
      "uvotimsum infile=data/1RXS_J085930.5+621737/sw00014040001uuu_sk.fits outfile=data/1RXS_J085930.5+621737/U.fits | tee -a uvotimsum_log.txt >/dev/null 2>&1\n",
      "Extensions in sw00014040001uuu_sk.fits has been summed to U.fits\n",
      "\n",
      "uvotimsum infile=data/1RXS_J085930.5+621737/sw00014040001uvv_sk.fits outfile=data/1RXS_J085930.5+621737/V.fits | tee -a uvotimsum_log.txt >/dev/null 2>&1\n",
      "Extensions in sw00014040001uvv_sk.fits has been summed to V.fits\n",
      "\n",
      "uvotimsum infile=data/1RXS_J085930.5+621737/sw00014040001uw1_sk.fits outfile=data/1RXS_J085930.5+621737/UVW1.fits | tee -a uvotimsum_log.txt >/dev/null 2>&1\n",
      "Extensions in sw00014040001uw1_sk.fits has been summed to UVW1.fits\n",
      "\n",
      "uvotimsum infile=data/1RXS_J085930.5+621737/sw00014040001uw2_sk.fits outfile=data/1RXS_J085930.5+621737/UVW2.fits | tee -a uvotimsum_log.txt >/dev/null 2>&1\n",
      "Extensions in sw00014040001uw2_sk.fits has been summed to UVW2.fits\n",
      "\n",
      "1RXS_J085930.5+621737 sum completed!\n",
      "----------------------------------------------------------------\n",
      "\n",
      "uvotimsum infile=data/B3_0850+443/sw00014051001ubb_sk.fits outfile=data/B3_0850+443/B_0.fits | tee -a uvotimsum_log.txt >/dev/null 2>&1\n",
      "Extensions in sw00014051001ubb_sk.fits has been summed to B_0.fits\n",
      "\n",
      "uvotimsum infile=data/B3_0850+443/sw00014051002ubb_sk.fits outfile=data/B3_0850+443/B_1.fits | tee -a uvotimsum_log.txt >/dev/null 2>&1\n",
      "Extensions in sw00014051002ubb_sk.fits has been summed to B_1.fits\n",
      "\n",
      "['B_0.fits' 'B_1.fits'] has been summed to B.fits\n",
      "\n",
      "uvotimsum infile=data/B3_0850+443/sw00014051001um2_sk.fits outfile=data/B3_0850+443/UVM2_0.fits | tee -a uvotimsum_log.txt >/dev/null 2>&1\n",
      "Extensions in sw00014051001um2_sk.fits has been summed to UVM2_0.fits\n",
      "\n",
      "uvotimsum infile=data/B3_0850+443/sw00014051002um2_sk.fits outfile=data/B3_0850+443/UVM2_1.fits | tee -a uvotimsum_log.txt >/dev/null 2>&1\n",
      "Extensions in sw00014051002um2_sk.fits has been summed to UVM2_1.fits\n",
      "\n",
      "['UVM2_0.fits' 'UVM2_1.fits'] has been summed to UVM2.fits\n",
      "\n",
      "uvotimsum infile=data/B3_0850+443/sw00014051001uuu_sk.fits outfile=data/B3_0850+443/U_0.fits | tee -a uvotimsum_log.txt >/dev/null 2>&1\n",
      "Extensions in sw00014051001uuu_sk.fits has been summed to U_0.fits\n",
      "\n",
      "uvotimsum infile=data/B3_0850+443/sw00014051002uuu_sk.fits outfile=data/B3_0850+443/U_1.fits | tee -a uvotimsum_log.txt >/dev/null 2>&1\n",
      "Extensions in sw00014051002uuu_sk.fits has been summed to U_1.fits\n",
      "\n",
      "['U_0.fits' 'U_1.fits'] has been summed to U.fits\n",
      "\n",
      "uvotimsum infile=data/B3_0850+443/sw00014051001uvv_sk.fits outfile=data/B3_0850+443/V_0.fits | tee -a uvotimsum_log.txt >/dev/null 2>&1\n",
      "Extensions in sw00014051001uvv_sk.fits has been summed to V_0.fits\n",
      "\n",
      "uvotimsum infile=data/B3_0850+443/sw00014051002uvv_sk.fits outfile=data/B3_0850+443/V_1.fits | tee -a uvotimsum_log.txt >/dev/null 2>&1\n",
      "Extensions in sw00014051002uvv_sk.fits has been summed to V_1.fits\n",
      "\n",
      "['V_0.fits' 'V_1.fits'] has been summed to V.fits\n",
      "\n",
      "uvotimsum infile=data/B3_0850+443/sw00014051001uw1_sk.fits outfile=data/B3_0850+443/UVW1_0.fits | tee -a uvotimsum_log.txt >/dev/null 2>&1\n",
      "Extensions in sw00014051001uw1_sk.fits has been summed to UVW1_0.fits\n",
      "\n",
      "uvotimsum infile=data/B3_0850+443/sw00014051002uw1_sk.fits outfile=data/B3_0850+443/UVW1_1.fits | tee -a uvotimsum_log.txt >/dev/null 2>&1\n",
      "Extensions in sw00014051002uw1_sk.fits has been summed to UVW1_1.fits\n",
      "\n",
      "['UVW1_0.fits' 'UVW1_1.fits'] has been summed to UVW1.fits\n",
      "\n",
      "uvotimsum infile=data/B3_0850+443/sw00014051001uw2_sk.fits outfile=data/B3_0850+443/UVW2_0.fits | tee -a uvotimsum_log.txt >/dev/null 2>&1\n",
      "Extensions in sw00014051001uw2_sk.fits has been summed to UVW2_0.fits\n",
      "\n",
      "uvotimsum infile=data/B3_0850+443/sw00014051002uw2_sk.fits outfile=data/B3_0850+443/UVW2_1.fits | tee -a uvotimsum_log.txt >/dev/null 2>&1\n",
      "Extensions in sw00014051002uw2_sk.fits has been summed to UVW2_1.fits\n",
      "\n",
      "['UVW2_0.fits' 'UVW2_1.fits'] has been summed to UVW2.fits\n",
      "\n",
      "B3_0850+443 sum completed!\n",
      "----------------------------------------------------------------\n",
      "\n",
      "uvotimsum infile=data/SDSS_J085135.93+552834.5/sw00014073001ubb_sk.fits outfile=data/SDSS_J085135.93+552834.5/B.fits | tee -a uvotimsum_log.txt >/dev/null 2>&1\n",
      "Extensions in sw00014073001ubb_sk.fits has been summed to B.fits\n",
      "\n",
      "uvotimsum infile=data/SDSS_J085135.93+552834.5/sw00014073001um2_sk.fits outfile=data/SDSS_J085135.93+552834.5/UVM2.fits | tee -a uvotimsum_log.txt >/dev/null 2>&1\n",
      "Extensions in sw00014073001um2_sk.fits has been summed to UVM2.fits\n",
      "\n",
      "uvotimsum infile=data/SDSS_J085135.93+552834.5/sw00014073001uuu_sk.fits outfile=data/SDSS_J085135.93+552834.5/U.fits | tee -a uvotimsum_log.txt >/dev/null 2>&1\n",
      "Extensions in sw00014073001uuu_sk.fits has been summed to U.fits\n",
      "\n",
      "uvotimsum infile=data/SDSS_J085135.93+552834.5/sw00014073001uvv_sk.fits outfile=data/SDSS_J085135.93+552834.5/V.fits | tee -a uvotimsum_log.txt >/dev/null 2>&1\n",
      "Extensions in sw00014073001uvv_sk.fits has been summed to V.fits\n",
      "\n",
      "uvotimsum infile=data/SDSS_J085135.93+552834.5/sw00014073001uw1_sk.fits outfile=data/SDSS_J085135.93+552834.5/UVW1.fits | tee -a uvotimsum_log.txt >/dev/null 2>&1\n",
      "Extensions in sw00014073001uw1_sk.fits has been summed to UVW1.fits\n",
      "\n",
      "uvotimsum infile=data/SDSS_J085135.93+552834.5/sw00014073001uw2_sk.fits outfile=data/SDSS_J085135.93+552834.5/UVW2.fits | tee -a uvotimsum_log.txt >/dev/null 2>&1\n",
      "Extensions in sw00014073001uw2_sk.fits has been summed to UVW2.fits\n",
      "\n",
      "SDSS_J085135.93+552834.5 sum completed!\n",
      "----------------------------------------------------------------\n",
      "\n",
      "uvotimsum infile=data/GB6_J0850+4855/sw00014083001ubb_sk.fits outfile=data/GB6_J0850+4855/B.fits | tee -a uvotimsum_log.txt >/dev/null 2>&1\n",
      "Extensions in sw00014083001ubb_sk.fits has been summed to B.fits\n",
      "\n",
      "uvotimsum infile=data/GB6_J0850+4855/sw00014083001um2_sk.fits outfile=data/GB6_J0850+4855/UVM2.fits | tee -a uvotimsum_log.txt >/dev/null 2>&1\n",
      "Extensions in sw00014083001um2_sk.fits has been summed to UVM2.fits\n",
      "\n",
      "uvotimsum infile=data/GB6_J0850+4855/sw00014083001uuu_sk.fits outfile=data/GB6_J0850+4855/U.fits | tee -a uvotimsum_log.txt >/dev/null 2>&1\n",
      "Extensions in sw00014083001uuu_sk.fits has been summed to U.fits\n",
      "\n",
      "uvotimsum infile=data/GB6_J0850+4855/sw00014083001uvv_sk.fits outfile=data/GB6_J0850+4855/V.fits | tee -a uvotimsum_log.txt >/dev/null 2>&1\n",
      "Extensions in sw00014083001uvv_sk.fits has been summed to V.fits\n",
      "\n",
      "uvotimsum infile=data/GB6_J0850+4855/sw00014083001uw1_sk.fits outfile=data/GB6_J0850+4855/UVW1.fits | tee -a uvotimsum_log.txt >/dev/null 2>&1\n",
      "Extensions in sw00014083001uw1_sk.fits has been summed to UVW1.fits\n",
      "\n",
      "uvotimsum infile=data/GB6_J0850+4855/sw00014083001uw2_sk.fits outfile=data/GB6_J0850+4855/UVW2.fits | tee -a uvotimsum_log.txt >/dev/null 2>&1\n",
      "Extensions in sw00014083001uw2_sk.fits has been summed to UVW2.fits\n",
      "\n",
      "GB6_J0850+4855 sum completed!\n",
      "----------------------------------------------------------------\n",
      "\n",
      "uvotimsum infile=data/TXS_0846+051/sw00014106001ubb_sk.fits outfile=data/TXS_0846+051/B.fits | tee -a uvotimsum_log.txt >/dev/null 2>&1\n",
      "Extensions in sw00014106001ubb_sk.fits has been summed to B.fits\n",
      "\n",
      "uvotimsum infile=data/TXS_0846+051/sw00014106001um2_sk.fits outfile=data/TXS_0846+051/UVM2.fits | tee -a uvotimsum_log.txt >/dev/null 2>&1\n",
      "Extensions in sw00014106001um2_sk.fits has been summed to UVM2.fits\n",
      "\n",
      "uvotimsum infile=data/TXS_0846+051/sw00014106001uuu_sk.fits outfile=data/TXS_0846+051/U.fits | tee -a uvotimsum_log.txt >/dev/null 2>&1\n",
      "Extensions in sw00014106001uuu_sk.fits has been summed to U.fits\n",
      "\n",
      "uvotimsum infile=data/TXS_0846+051/sw00014106001uvv_sk.fits outfile=data/TXS_0846+051/V.fits | tee -a uvotimsum_log.txt >/dev/null 2>&1\n",
      "Extensions in sw00014106001uvv_sk.fits has been summed to V.fits\n",
      "\n",
      "uvotimsum infile=data/TXS_0846+051/sw00014106001uw1_sk.fits outfile=data/TXS_0846+051/UVW1.fits | tee -a uvotimsum_log.txt >/dev/null 2>&1\n",
      "Extensions in sw00014106001uw1_sk.fits has been summed to UVW1.fits\n",
      "\n",
      "uvotimsum infile=data/TXS_0846+051/sw00014106001uw2_sk.fits outfile=data/TXS_0846+051/UVW2.fits | tee -a uvotimsum_log.txt >/dev/null 2>&1\n",
      "Extensions in sw00014106001uw2_sk.fits has been summed to UVW2.fits\n",
      "\n",
      "TXS_0846+051 sum completed!\n",
      "----------------------------------------------------------------\n",
      "\n",
      "uvotimsum infile=data/SDSS_J081649.78+205106.4/sw00083796003ubb_sk.fits outfile=data/SDSS_J081649.78+205106.4/B_0.fits | tee -a uvotimsum_log.txt >/dev/null 2>&1\n",
      "Extensions in sw00083796003ubb_sk.fits has been summed to B_0.fits\n",
      "\n",
      "uvotimsum infile=data/SDSS_J081649.78+205106.4/sw00083796005ubb_sk.fits outfile=data/SDSS_J081649.78+205106.4/B_1.fits | tee -a uvotimsum_log.txt >/dev/null 2>&1\n",
      "Extensions in sw00083796005ubb_sk.fits has been summed to B_1.fits\n",
      "\n",
      "uvotimsum infile=data/SDSS_J081649.78+205106.4/sw00083796006ubb_sk.fits outfile=data/SDSS_J081649.78+205106.4/B_2.fits | tee -a uvotimsum_log.txt >/dev/null 2>&1\n",
      "Extensions in sw00083796006ubb_sk.fits has been summed to B_2.fits\n",
      "\n",
      "['B_0.fits' 'B_1.fits' 'B_2.fits'] has been summed to B.fits\n",
      "\n",
      "uvotimsum infile=data/SDSS_J081649.78+205106.4/sw00083796003um2_sk.fits outfile=data/SDSS_J081649.78+205106.4/UVM2_0.fits | tee -a uvotimsum_log.txt >/dev/null 2>&1\n",
      "Extensions in sw00083796003um2_sk.fits has been summed to UVM2_0.fits\n",
      "\n",
      "uvotimsum infile=data/SDSS_J081649.78+205106.4/sw00083796006um2_sk.fits outfile=data/SDSS_J081649.78+205106.4/UVM2_1.fits | tee -a uvotimsum_log.txt >/dev/null 2>&1\n",
      "Extensions in sw00083796006um2_sk.fits has been summed to UVM2_1.fits\n",
      "\n",
      "['UVM2_0.fits' 'UVM2_1.fits'] has been summed to UVM2.fits\n",
      "\n",
      "uvotimsum infile=data/SDSS_J081649.78+205106.4/sw00083796003uuu_sk.fits outfile=data/SDSS_J081649.78+205106.4/U_0.fits | tee -a uvotimsum_log.txt >/dev/null 2>&1\n",
      "Extensions in sw00083796003uuu_sk.fits has been summed to U_0.fits\n",
      "\n",
      "uvotimsum infile=data/SDSS_J081649.78+205106.4/sw00083796005uuu_sk.fits outfile=data/SDSS_J081649.78+205106.4/U_1.fits | tee -a uvotimsum_log.txt >/dev/null 2>&1\n",
      "Extensions in sw00083796005uuu_sk.fits has been summed to U_1.fits\n",
      "\n",
      "uvotimsum infile=data/SDSS_J081649.78+205106.4/sw00083796006uuu_sk.fits outfile=data/SDSS_J081649.78+205106.4/U_2.fits | tee -a uvotimsum_log.txt >/dev/null 2>&1\n",
      "Extensions in sw00083796006uuu_sk.fits has been summed to U_2.fits\n",
      "\n",
      "['U_0.fits' 'U_1.fits' 'U_2.fits'] has been summed to U.fits\n",
      "\n",
      "uvotimsum infile=data/SDSS_J081649.78+205106.4/sw00083796003uvv_sk.fits outfile=data/SDSS_J081649.78+205106.4/V_0.fits | tee -a uvotimsum_log.txt >/dev/null 2>&1\n",
      "Extensions in sw00083796003uvv_sk.fits has been summed to V_0.fits\n",
      "\n",
      "uvotimsum infile=data/SDSS_J081649.78+205106.4/sw00083796006uvv_sk.fits outfile=data/SDSS_J081649.78+205106.4/V_1.fits | tee -a uvotimsum_log.txt >/dev/null 2>&1\n",
      "Extensions in sw00083796006uvv_sk.fits has been summed to V_1.fits\n",
      "\n",
      "['V_0.fits' 'V_1.fits'] has been summed to V.fits\n",
      "\n",
      "uvotimsum infile=data/SDSS_J081649.78+205106.4/sw00083796003uw1_sk.fits outfile=data/SDSS_J081649.78+205106.4/UVW1_0.fits | tee -a uvotimsum_log.txt >/dev/null 2>&1\n",
      "Extensions in sw00083796003uw1_sk.fits has been summed to UVW1_0.fits\n",
      "\n",
      "uvotimsum infile=data/SDSS_J081649.78+205106.4/sw00083796004uw1_sk.fits outfile=data/SDSS_J081649.78+205106.4/UVW1_1.fits | tee -a uvotimsum_log.txt >/dev/null 2>&1\n",
      "Extensions in sw00083796004uw1_sk.fits has been summed to UVW1_1.fits\n",
      "\n",
      "uvotimsum infile=data/SDSS_J081649.78+205106.4/sw00083796005uw1_sk.fits outfile=data/SDSS_J081649.78+205106.4/UVW1_2.fits | tee -a uvotimsum_log.txt >/dev/null 2>&1\n",
      "Extensions in sw00083796005uw1_sk.fits has been summed to UVW1_2.fits\n",
      "\n",
      "uvotimsum infile=data/SDSS_J081649.78+205106.4/sw00083796006uw1_sk.fits outfile=data/SDSS_J081649.78+205106.4/UVW1_3.fits | tee -a uvotimsum_log.txt >/dev/null 2>&1\n",
      "Extensions in sw00083796006uw1_sk.fits has been summed to UVW1_3.fits\n",
      "\n",
      "['UVW1_0.fits' 'UVW1_1.fits' 'UVW1_2.fits' 'UVW1_3.fits'] has been summed to UVW1.fits\n",
      "\n",
      "uvotimsum infile=data/SDSS_J081649.78+205106.4/sw00083796003uw2_sk.fits outfile=data/SDSS_J081649.78+205106.4/UVW2_0.fits | tee -a uvotimsum_log.txt >/dev/null 2>&1\n",
      "Extensions in sw00083796003uw2_sk.fits has been summed to UVW2_0.fits\n",
      "\n",
      "uvotimsum infile=data/SDSS_J081649.78+205106.4/sw00083796006uw2_sk.fits outfile=data/SDSS_J081649.78+205106.4/UVW2_1.fits | tee -a uvotimsum_log.txt >/dev/null 2>&1\n",
      "Extensions in sw00083796006uw2_sk.fits has been summed to UVW2_1.fits\n",
      "\n",
      "['UVW2_0.fits' 'UVW2_1.fits'] has been summed to UVW2.fits\n",
      "\n",
      "SDSS_J081649.78+205106.4 sum completed!\n",
      "----------------------------------------------------------------\n",
      "\n",
      "uvotimsum infile=data/NVSS_J084411+531250/sw00039147007ubb_sk.fits outfile=data/NVSS_J084411+531250/B.fits | tee -a uvotimsum_log.txt >/dev/null 2>&1\n",
      "Extensions in sw00039147007ubb_sk.fits has been summed to B.fits\n",
      "\n",
      "uvotimsum infile=data/NVSS_J084411+531250/sw00039147007um2_sk.fits outfile=data/NVSS_J084411+531250/UVM2.fits | tee -a uvotimsum_log.txt >/dev/null 2>&1\n",
      "Extensions in sw00039147007um2_sk.fits has been summed to UVM2.fits\n",
      "\n",
      "uvotimsum infile=data/NVSS_J084411+531250/sw00039147007uuu_sk.fits outfile=data/NVSS_J084411+531250/U.fits | tee -a uvotimsum_log.txt >/dev/null 2>&1\n",
      "Extensions in sw00039147007uuu_sk.fits has been summed to U.fits\n",
      "\n",
      "uvotimsum infile=data/NVSS_J084411+531250/sw00039147007uvv_sk.fits outfile=data/NVSS_J084411+531250/V.fits | tee -a uvotimsum_log.txt >/dev/null 2>&1\n",
      "Extensions in sw00039147007uvv_sk.fits has been summed to V.fits\n",
      "\n",
      "uvotimsum infile=data/NVSS_J084411+531250/sw00039147007uw1_sk.fits outfile=data/NVSS_J084411+531250/UVW1.fits | tee -a uvotimsum_log.txt >/dev/null 2>&1\n",
      "Extensions in sw00039147007uw1_sk.fits has been summed to UVW1.fits\n",
      "\n",
      "uvotimsum infile=data/NVSS_J084411+531250/sw00039147007uw2_sk.fits outfile=data/NVSS_J084411+531250/UVW2.fits | tee -a uvotimsum_log.txt >/dev/null 2>&1\n",
      "Extensions in sw00039147007uw2_sk.fits has been summed to UVW2.fits\n",
      "\n",
      "NVSS_J084411+531250 sum completed!\n",
      "----------------------------------------------------------------\n",
      "\n",
      "uvotimsum infile=data/NVSS_J132758+252750/sw00014215002ubb_sk.fits outfile=data/NVSS_J132758+252750/B.fits | tee -a uvotimsum_log.txt >/dev/null 2>&1\n",
      "Extensions in sw00014215002ubb_sk.fits has been summed to B.fits\n",
      "\n",
      "uvotimsum infile=data/NVSS_J132758+252750/sw00014215002um2_sk.fits outfile=data/NVSS_J132758+252750/UVM2.fits | tee -a uvotimsum_log.txt >/dev/null 2>&1\n",
      "Extensions in sw00014215002um2_sk.fits has been summed to UVM2.fits\n",
      "\n",
      "uvotimsum infile=data/NVSS_J132758+252750/sw00014215002uuu_sk.fits outfile=data/NVSS_J132758+252750/U.fits | tee -a uvotimsum_log.txt >/dev/null 2>&1\n",
      "Extensions in sw00014215002uuu_sk.fits has been summed to U.fits\n",
      "\n",
      "uvotimsum infile=data/NVSS_J132758+252750/sw00014215002uvv_sk.fits outfile=data/NVSS_J132758+252750/V.fits | tee -a uvotimsum_log.txt >/dev/null 2>&1\n",
      "Extensions in sw00014215002uvv_sk.fits has been summed to V.fits\n",
      "\n",
      "uvotimsum infile=data/NVSS_J132758+252750/sw00014215002uw1_sk.fits outfile=data/NVSS_J132758+252750/UVW1.fits | tee -a uvotimsum_log.txt >/dev/null 2>&1\n",
      "Extensions in sw00014215002uw1_sk.fits has been summed to UVW1.fits\n",
      "\n",
      "uvotimsum infile=data/NVSS_J132758+252750/sw00014215002uw2_sk.fits outfile=data/NVSS_J132758+252750/UVW2.fits | tee -a uvotimsum_log.txt >/dev/null 2>&1\n",
      "Extensions in sw00014215002uw2_sk.fits has been summed to UVW2.fits\n",
      "\n",
      "NVSS_J132758+252750 sum completed!\n",
      "----------------------------------------------------------------\n",
      "\n"
     ]
    }
   ],
   "source": [
    "swift_combine.sum_all_files()"
   ]
  },
  {
   "cell_type": "markdown",
   "id": "69eff6e0-3010-4d09-8b16-ec602ff32102",
   "metadata": {},
   "source": [
    "# Generate region files for sources"
   ]
  },
  {
   "cell_type": "code",
   "execution_count": 5,
   "id": "c786fcba-0253-4a2a-a5df-2a62d8cca6e4",
   "metadata": {},
   "outputs": [
    {
     "name": "stdout",
     "output_type": "stream",
     "text": [
      "data/Ton_1015\n",
      "data/1RXS_J085930.5+621737\n",
      "data/B3_0850+443\n",
      "data/SDSS_J085135.93+552834.5\n",
      "data/GB6_J0850+4855\n",
      "data/TXS_0846+051\n",
      "data/SDSS_J081649.78+205106.4\n",
      "data/NVSS_J084411+531250\n",
      "data/NVSS_J132758+252750\n"
     ]
    }
   ],
   "source": [
    "# Get the directory for each source (only when the source has obervations)\n",
    "\n",
    "paths = [path for path in root_dir.iterdir() if any(path.iterdir())]\n",
    "\n",
    "for path in paths:\n",
    "    print(path)\n",
    "\n",
    "# Define a multi image collection object\n",
    "multi_collection = mImageFileCollection(image_dir = paths, glob_exclude = \"*_*\")\n",
    "\n",
    "# Define the swift telescope\n",
    "swift_telescope = Telescope(telescope = \"Swift\", mode = \"0X30ED\", ccd = \"UVOT\")"
   ]
  },
  {
   "cell_type": "code",
   "execution_count": 6,
   "id": "e143872f-29d9-44a4-b086-4408ff6ab9ee",
   "metadata": {},
   "outputs": [],
   "source": [
    "source_regions = PhotozRegions(image_collection = multi_collection, \n",
    "                               telescope = swift_telescope, \n",
    "                               source_catalog_path = \"group_1_source_catalog.csv\")"
   ]
  },
  {
   "cell_type": "code",
   "execution_count": 7,
   "id": "7b745c46-e533-4622-9dd8-f72e3687ea5f",
   "metadata": {},
   "outputs": [
    {
     "name": "stdout",
     "output_type": "stream",
     "text": [
      "Generating source regions for Ton 1015\n",
      "The centroid pixel for B is ([552.25978478],[548.19604971]).\n",
      "The centroid pixel for U is ([550.94162213],[551.10112742]).\n",
      "The centroid pixel for UVM2 is ([554.55207322],[549.28539744]).\n",
      "The centroid pixel for UVW1 is ([555.83274399],[554.79383343]).\n",
      "The centroid pixel for UVW2 is ([555.64230436],[550.7820387]).\n",
      "The centroid pixel for V is ([553.12655677],[549.74464642]).\n",
      "--------------------------------------------------------------------\n",
      "Generating source regions for 1RXS J085930.5+621737\n",
      "The centroid pixel for B is ([761.07142971],[819.32221662]).\n",
      "The centroid pixel for U is ([761.0168139],[822.26190951]).\n",
      "The centroid pixel for UVM2 is ([760.87615259],[817.99788007]).\n",
      "The centroid pixel for UVW1 is ([756.44982595],[815.01075137]).\n",
      "The centroid pixel for UVW2 is ([762.96553212],[821.7064713]).\n",
      "The centroid pixel for V is ([760.0353215],[818.5412688]).\n",
      "--------------------------------------------------------------------\n",
      "Generating source regions for B3 0850+443\n",
      "The centroid pixel for B is ([624.18565692],[803.86259626]).\n",
      "The centroid pixel for U is ([623.87667166],[807.52427917]).\n",
      "The centroid pixel for UVM2 is ([624.85462132],[802.3476731]).\n",
      "The centroid pixel for UVW1 is ([610.2291547],[797.0674953]).\n",
      "The centroid pixel for UVW2 is ([626.69711681],[806.82389325]).\n",
      "The centroid pixel for V is ([624.29448983],[803.6344331]).\n",
      "--------------------------------------------------------------------\n",
      "Generating source regions for SDSS J085135.93+552834.5\n",
      "The centroid pixel for B is ([649.77074049],[875.23474622]).\n",
      "The centroid pixel for U is ([650.76755096],[879.14528445]).\n",
      "The centroid pixel for UVM2 is ([651.24491899],[874.72331401]).\n",
      "The centroid pixel for UVW1 is ([648.72011525],[871.57966139]).\n",
      "The centroid pixel for UVW2 is ([653.59396738],[876.94809698]).\n",
      "The centroid pixel for V is ([650.77548648],[876.00647767]).\n",
      "--------------------------------------------------------------------\n",
      "Generating source regions for GB6 J0850+4855\n",
      "The centroid pixel for B is ([428.73371834],[490.41559415]).\n",
      "The centroid pixel for U is ([429.39359619],[494.4774256]).\n",
      "The centroid pixel for UVM2 is ([428.05556454],[489.60642875]).\n",
      "The centroid pixel for UVW1 is ([431.03981437],[490.56851264]).\n",
      "The centroid pixel for UVW2 is ([430.30141427],[492.26068819]).\n",
      "The centroid pixel for V is ([429.29785664],[490.06292239]).\n",
      "--------------------------------------------------------------------\n",
      "Generating source regions for TXS 0846+051\n",
      "The centroid pixel for B is ([320.21897391],[597.33470816]).\n",
      "The centroid pixel for U is ([322.44473341],[597.45994657]).\n",
      "The centroid pixel for UVM2 is ([318.15228333],[596.23739317]).\n",
      "The centroid pixel for UVW1 is ([325.60449138],[594.6819882]).\n",
      "The centroid pixel for UVW2 is ([322.23148303],[600.89769562]).\n",
      "The centroid pixel for V is ([319.40273401],[598.02134587]).\n",
      "--------------------------------------------------------------------\n",
      "Generating source regions for SDSS J081649.78+205106.4\n",
      "The centroid pixel for B is ([593.24198138],[679.08197181]).\n",
      "The centroid pixel for U is ([595.89052426],[680.28522331]).\n",
      "The centroid pixel for UVM2 is ([592.02321532],[679.89240859]).\n",
      "The centroid pixel for UVW1 is ([595.00747445],[685.15621988]).\n",
      "The centroid pixel for UVW2 is ([595.17786872],[684.13056669]).\n",
      "The centroid pixel for V is ([591.99809419],[679.83235231]).\n",
      "--------------------------------------------------------------------\n",
      "Generating source regions for NVSS J084411+531250\n",
      "The centroid pixel for B is ([523.19408272],[659.58808229]).\n",
      "The centroid pixel for U is ([527.40952304],[659.5387518]).\n",
      "The centroid pixel for UVM2 is ([523.59332632],[658.69819039]).\n",
      "The centroid pixel for UVW1 is ([530.7772018],[661.55334867]).\n",
      "The centroid pixel for UVW2 is ([526.30263464],[662.34355439]).\n",
      "The centroid pixel for V is ([522.6424421],[659.88062679]).\n",
      "--------------------------------------------------------------------\n",
      "Generating source regions for NVSS J132758+252750\n",
      "The centroid pixel for B is ([586.52135211],[805.78786806]).\n",
      "The centroid pixel for U is ([582.25766351],[805.7975199]).\n",
      "The centroid pixel for UVM2 is ([582.49518498],[806.39593739]).\n",
      "The centroid pixel for UVW1 is ([587.],[802.]).\n",
      "The centroid pixel for UVW2 is ([588.66331053],[808.60873213]).\n",
      "The centroid pixel for V is ([590.91794848],[804.91513602]).\n",
      "--------------------------------------------------------------------\n"
     ]
    }
   ],
   "source": [
    "#%%capture\n",
    "source_regions.get_source_regions(box_size = 15, save_image = True, bkg_region_template = \"bkg.reg\")"
   ]
  },
  {
   "cell_type": "code",
   "execution_count": 20,
   "id": "bfcf835d-d7e3-4928-8693-4c809a06780c",
   "metadata": {},
   "outputs": [
    {
     "name": "stderr",
     "output_type": "stream",
     "text": [
      "INFO:astropy:first HDU with data is extension 1.\n"
     ]
    },
    {
     "name": "stdout",
     "output_type": "stream",
     "text": [
      "INFO: first HDU with data is extension 1. [astropy.nddata.ccddata]\n"
     ]
    }
   ],
   "source": [
    "from astropy.nddata import CCDData\n",
    "ccddata = CCDData.read(\"data/Ton_1015/B.fits\", output_verify = \"silentfix\")"
   ]
  },
  {
   "cell_type": "code",
   "execution_count": 22,
   "id": "06f9cf7b-0ab3-4780-9e96-1f13115c5c80",
   "metadata": {},
   "outputs": [],
   "source": [
    "from astropy.io import fits\n",
    "\n",
    "hdul = fits.open(\"data/Ton_1015/B.fits\")"
   ]
  },
  {
   "cell_type": "code",
   "execution_count": 29,
   "id": "a4b1d777-515a-4d03-a8a3-365c9d4b4799",
   "metadata": {},
   "outputs": [
    {
     "data": {
      "text/plain": [
       "0    137.654292\n",
       "Name: ra, dtype: float64"
      ]
     },
     "execution_count": 29,
     "metadata": {},
     "output_type": "execute_result"
    }
   ],
   "source": [
    "df = pd.read_csv(\"group_1_source_catalog.csv\", sep = \",\")\n",
    "df[df[\"name\"] == \"Ton 1015\"][\"ra\"]"
   ]
  },
  {
   "cell_type": "code",
   "execution_count": 21,
   "id": "301007f8-610b-4c53-af65-ffb3efe9119d",
   "metadata": {},
   "outputs": [
    {
     "data": {
      "text/html": [
       "<div>\n",
       "<style scoped>\n",
       "    .dataframe tbody tr th:only-of-type {\n",
       "        vertical-align: middle;\n",
       "    }\n",
       "\n",
       "    .dataframe tbody tr th {\n",
       "        vertical-align: top;\n",
       "    }\n",
       "\n",
       "    .dataframe thead th {\n",
       "        text-align: right;\n",
       "    }\n",
       "</style>\n",
       "<table border=\"1\" class=\"dataframe\">\n",
       "  <thead>\n",
       "    <tr style=\"text-align: right;\">\n",
       "      <th></th>\n",
       "      <th>name</th>\n",
       "      <th>targetid</th>\n",
       "      <th>window_lower</th>\n",
       "      <th>window_upper</th>\n",
       "      <th>ra</th>\n",
       "      <th>dec</th>\n",
       "    </tr>\n",
       "  </thead>\n",
       "  <tbody>\n",
       "    <tr>\n",
       "      <th>0</th>\n",
       "      <td>Ton 1015</td>\n",
       "      <td>38162</td>\n",
       "      <td>2021-01-24</td>\n",
       "      <td>2021-02-26</td>\n",
       "      <td>137.654292</td>\n",
       "      <td>33.490119</td>\n",
       "    </tr>\n",
       "    <tr>\n",
       "      <th>1</th>\n",
       "      <td>1RXS J085930.5+621737</td>\n",
       "      <td>14040</td>\n",
       "      <td>2021-02-02</td>\n",
       "      <td>2021-03-07</td>\n",
       "      <td>134.877958</td>\n",
       "      <td>62.291800</td>\n",
       "    </tr>\n",
       "    <tr>\n",
       "      <th>2</th>\n",
       "      <td>B3 0850+443</td>\n",
       "      <td>14051</td>\n",
       "      <td>2021-02-04</td>\n",
       "      <td>2021-03-09</td>\n",
       "      <td>133.541208</td>\n",
       "      <td>44.141750</td>\n",
       "    </tr>\n",
       "    <tr>\n",
       "      <th>3</th>\n",
       "      <td>SDSS J085135.93+552834.5</td>\n",
       "      <td>14073</td>\n",
       "      <td>2021-02-14</td>\n",
       "      <td>2021-03-19</td>\n",
       "      <td>132.899708</td>\n",
       "      <td>55.476231</td>\n",
       "    </tr>\n",
       "    <tr>\n",
       "      <th>4</th>\n",
       "      <td>GB6 J0850+4855</td>\n",
       "      <td>14083</td>\n",
       "      <td>2021-02-21</td>\n",
       "      <td>2021-03-26</td>\n",
       "      <td>132.501458</td>\n",
       "      <td>48.916300</td>\n",
       "    </tr>\n",
       "    <tr>\n",
       "      <th>5</th>\n",
       "      <td>GB6 J0848+6605</td>\n",
       "      <td>14092</td>\n",
       "      <td>2021-02-28</td>\n",
       "      <td>2021-04-02</td>\n",
       "      <td>132.227583</td>\n",
       "      <td>66.102639</td>\n",
       "    </tr>\n",
       "    <tr>\n",
       "      <th>6</th>\n",
       "      <td>TXS 0846+051</td>\n",
       "      <td>14106</td>\n",
       "      <td>2021-03-04</td>\n",
       "      <td>2021-04-06</td>\n",
       "      <td>132.385625</td>\n",
       "      <td>4.918850</td>\n",
       "    </tr>\n",
       "    <tr>\n",
       "      <th>7</th>\n",
       "      <td>SDSS J081649.78+205106.4</td>\n",
       "      <td>83796</td>\n",
       "      <td>2021-03-12</td>\n",
       "      <td>2021-04-14</td>\n",
       "      <td>124.207417</td>\n",
       "      <td>20.851789</td>\n",
       "    </tr>\n",
       "    <tr>\n",
       "      <th>8</th>\n",
       "      <td>NVSS J084411+531250</td>\n",
       "      <td>39147</td>\n",
       "      <td>2021-03-20</td>\n",
       "      <td>2021-04-22</td>\n",
       "      <td>131.048750</td>\n",
       "      <td>53.214050</td>\n",
       "    </tr>\n",
       "    <tr>\n",
       "      <th>9</th>\n",
       "      <td>NVSS J132758+252750</td>\n",
       "      <td>14215</td>\n",
       "      <td>2021-04-02</td>\n",
       "      <td>2021-05-05</td>\n",
       "      <td>201.994375</td>\n",
       "      <td>25.463939</td>\n",
       "    </tr>\n",
       "  </tbody>\n",
       "</table>\n",
       "</div>"
      ],
      "text/plain": [
       "                       name  targetid window_lower window_upper          ra  \\\n",
       "0                  Ton 1015     38162   2021-01-24   2021-02-26  137.654292   \n",
       "1     1RXS J085930.5+621737     14040   2021-02-02   2021-03-07  134.877958   \n",
       "2               B3 0850+443     14051   2021-02-04   2021-03-09  133.541208   \n",
       "3  SDSS J085135.93+552834.5     14073   2021-02-14   2021-03-19  132.899708   \n",
       "4            GB6 J0850+4855     14083   2021-02-21   2021-03-26  132.501458   \n",
       "5            GB6 J0848+6605     14092   2021-02-28   2021-04-02  132.227583   \n",
       "6              TXS 0846+051     14106   2021-03-04   2021-04-06  132.385625   \n",
       "7  SDSS J081649.78+205106.4     83796   2021-03-12   2021-04-14  124.207417   \n",
       "8       NVSS J084411+531250     39147   2021-03-20   2021-04-22  131.048750   \n",
       "9       NVSS J132758+252750     14215   2021-04-02   2021-05-05  201.994375   \n",
       "\n",
       "         dec  \n",
       "0  33.490119  \n",
       "1  62.291800  \n",
       "2  44.141750  \n",
       "3  55.476231  \n",
       "4  48.916300  \n",
       "5  66.102639  \n",
       "6   4.918850  \n",
       "7  20.851789  \n",
       "8  53.214050  \n",
       "9  25.463939  "
      ]
     },
     "execution_count": 21,
     "metadata": {},
     "output_type": "execute_result"
    }
   ],
   "source": [
    "df"
   ]
  },
  {
   "cell_type": "code",
   "execution_count": 31,
   "id": "11f3203c-5569-4bac-afbc-456e8fb5923e",
   "metadata": {},
   "outputs": [
    {
     "data": {
      "text/plain": [
       "134.87795833333"
      ]
     },
     "execution_count": 31,
     "metadata": {},
     "output_type": "execute_result"
    }
   ],
   "source": [
    "df[df[\"name\"] == \"1RXS J085930.5+621737\"][\"ra\"].to_numpy()[0]"
   ]
  },
  {
   "cell_type": "code",
   "execution_count": 14,
   "id": "509380d6-d536-45e5-8d50-56da17420d62",
   "metadata": {},
   "outputs": [],
   "source": [
    "skycoord = SkyCoord(ra = df[df[\"name\"] == \"Ton 1015\"][\"ra\"][0], dec = df[df[\"name\"] == \"Ton 1015\"][\"dec\"][0], unit = \"deg\", frame = \"icrs\")"
   ]
  },
  {
   "cell_type": "code",
   "execution_count": 15,
   "id": "c9071013-9ae2-4c3e-b7be-994252d9acc4",
   "metadata": {},
   "outputs": [
    {
     "data": {
      "text/plain": [
       "<SkyCoord (ICRS): (ra, dec) in deg\n",
       "    (137.65429167, 33.49011944)>"
      ]
     },
     "execution_count": 15,
     "metadata": {},
     "output_type": "execute_result"
    }
   ],
   "source": [
    "skycoord"
   ]
  },
  {
   "cell_type": "code",
   "execution_count": 6,
   "id": "d98a584e-e0e1-48d6-bf33-c88dadcfd952",
   "metadata": {},
   "outputs": [],
   "source": [
    "a = \"Ton_344\""
   ]
  },
  {
   "cell_type": "code",
   "execution_count": 7,
   "id": "1a7e40e5-3b28-4a25-ae0f-888b668a723a",
   "metadata": {},
   "outputs": [
    {
     "data": {
      "text/plain": [
       "'Ton 344'"
      ]
     },
     "execution_count": 7,
     "metadata": {},
     "output_type": "execute_result"
    }
   ],
   "source": [
    "a.replace(\"_\", \" \")"
   ]
  },
  {
   "cell_type": "code",
   "execution_count": 6,
   "id": "f98a932c-b426-4a01-90dc-b964f9b9971e",
   "metadata": {},
   "outputs": [],
   "source": [
    "collection_path = multi_collection[0].location\n",
    "source_name = collection_path.parts[-1].replace(\"_\", \" \")"
   ]
  },
  {
   "cell_type": "code",
   "execution_count": 8,
   "id": "fbcfa115-a336-4b5a-95a1-a9dfaeabe429",
   "metadata": {},
   "outputs": [
    {
     "data": {
      "text/plain": [
       "'Ton_1015'"
      ]
     },
     "execution_count": 8,
     "metadata": {},
     "output_type": "execute_result"
    }
   ],
   "source": [
    "collection_path.parts[-1]"
   ]
  },
  {
   "cell_type": "code",
   "execution_count": null,
   "id": "324a3393-3da5-41a8-af8a-6e8df5d9cc9d",
   "metadata": {},
   "outputs": [],
   "source": []
  }
 ],
 "metadata": {
  "kernelspec": {
   "display_name": "Python 3 (ipykernel)",
   "language": "python",
   "name": "python3"
  },
  "language_info": {
   "codemirror_mode": {
    "name": "ipython",
    "version": 3
   },
   "file_extension": ".py",
   "mimetype": "text/x-python",
   "name": "python",
   "nbconvert_exporter": "python",
   "pygments_lexer": "ipython3",
   "version": "3.9.18"
  }
 },
 "nbformat": 4,
 "nbformat_minor": 5
}
