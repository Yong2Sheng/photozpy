{
 "cells": [
  {
   "cell_type": "code",
   "execution_count": 9,
   "id": "496614cc-a084-4412-8aa4-64d98029ad1c",
   "metadata": {},
   "outputs": [],
   "source": [
    "%%capture\n",
    "from pathlib import Path\n",
    "from ccdproc import ImageFileCollection\n",
    "from photozpy import Telescope, HeaderCorrection, Telescope, SwiftDownload, mImageFileCollection\n",
    "import pandas as pd\n",
    "import copy\n",
    "from astropy.time import Time\n",
    "from astropy.coordinates import SkyCoord\n",
    "import astropy.units as u\n",
    "import numpy as np\n",
    "import shutil"
   ]
  },
  {
   "cell_type": "markdown",
   "id": "799a3582-1c64-4291-99e2-2f91419c2450",
   "metadata": {},
   "source": [
    "## Download data"
   ]
  },
  {
   "cell_type": "code",
   "execution_count": 11,
   "id": "b18076bf-0792-489c-a17f-c8ddf72a8273",
   "metadata": {},
   "outputs": [
    {
     "name": "stdout",
     "output_type": "stream",
     "text": [
      "Downloading data for 4FGL J0700.5-6610 ...\n",
      "00038456003 on 2024-02-15 23:24:02 is being downloaded, the uvot mode is 0x30ed\n"
     ]
    },
    {
     "data": {
      "application/vnd.jupyter.widget-view+json": {
       "model_id": "f5101db53e024150aeeabbfafa1c92a9",
       "version_major": 2,
       "version_minor": 0
      },
      "text/plain": [
       "Downloading files:   0%|          | 0/18 [00:00<?, ?files/s]"
      ]
     },
     "metadata": {},
     "output_type": "display_data"
    },
    {
     "name": "stdout",
     "output_type": "stream",
     "text": [
      "00038456003 has been downloaded/examined, skipping ...\n",
      "Downloading data for B3 0850+443 ...\n",
      "00014051002 on 2021-02-10 11:02:02 is being downloaded, the uvot mode is 0x30ed\n"
     ]
    },
    {
     "data": {
      "application/vnd.jupyter.widget-view+json": {
       "model_id": "3c6ed9cff1f640b49cd7804d9bbedc9b",
       "version_major": 2,
       "version_minor": 0
      },
      "text/plain": [
       "Downloading files:   0%|          | 0/18 [00:00<?, ?files/s]"
      ]
     },
     "metadata": {},
     "output_type": "display_data"
    },
    {
     "name": "stdout",
     "output_type": "stream",
     "text": [
      "00014051001 on 2021-02-07 16:01:02 is being downloaded, the uvot mode is 0x30ed\n"
     ]
    },
    {
     "data": {
      "application/vnd.jupyter.widget-view+json": {
       "model_id": "23ed667e6dad4c2da3572c3a28d5a567",
       "version_major": 2,
       "version_minor": 0
      },
      "text/plain": [
       "Downloading files:   0%|          | 0/18 [00:00<?, ?files/s]"
      ]
     },
     "metadata": {},
     "output_type": "display_data"
    },
    {
     "name": "stdout",
     "output_type": "stream",
     "text": [
      "00014051001 has been downloaded/examined, skipping ...\n",
      "00014051001 has been downloaded/examined, skipping ...\n",
      "Downloading data for 87GB 213913.0+293303 ...\n",
      "00016150001 on 2023-07-26 23:41:02 is being downloaded, the uvot mode is 0x30ed\n"
     ]
    },
    {
     "data": {
      "application/vnd.jupyter.widget-view+json": {
       "model_id": "104abf417db7400a842d814095fe51db",
       "version_major": 2,
       "version_minor": 0
      },
      "text/plain": [
       "Downloading files:   0%|          | 0/18 [00:00<?, ?files/s]"
      ]
     },
     "metadata": {},
     "output_type": "display_data"
    },
    {
     "name": "stdout",
     "output_type": "stream",
     "text": [
      "00016150001 has been downloaded/examined, skipping ...\n"
     ]
    }
   ],
   "source": [
    "# set to the directory as you desire. It's the root directory of this notebook in default\n",
    "dir = Path(\"./data\")\n",
    "swift_download = SwiftDownload(download_dir = dir)\n",
    "\n",
    "# parse the obsquery infor from a csv file\n",
    "swift_download.set_obsquery_info_from_csv(\"source_catalog.csv\")\n",
    "\n",
    "# download data\n",
    "swift_download.download_swift_data(organize = True)"
   ]
  },
  {
   "cell_type": "markdown",
   "id": "2fed1fe7-5dba-4cd1-acbc-49cc81d52fc6",
   "metadata": {},
   "source": [
    "## Sum extensions within and across observations"
   ]
  },
  {
   "cell_type": "code",
   "execution_count": 23,
   "id": "9bb64d85-1caf-42e0-b26c-7422f8403e6e",
   "metadata": {},
   "outputs": [
    {
     "name": "stdout",
     "output_type": "stream",
     "text": [
      "[PosixPath('data/B3 0850+443'), PosixPath('data/87GB 213913.0+293303'), PosixPath('data/.ipynb_checkpoints'), PosixPath('data/4FGL J0700.5-6610')]\n",
      "[PosixPath('data/B3 0850+443'), PosixPath('data/87GB 213913.0+293303'), PosixPath('data/4FGL J0700.5-6610')]\n"
     ]
    }
   ],
   "source": [
    "# Get the directory for each source\n",
    "paths = [path for path in dir.iterdir() if path.is_dir()]\n",
    "print(paths)\n",
    "\n",
    "# Hidden directories will be included if exists, make sure you remove the directory that you don't want.\n",
    "paths.remove(paths[2])\n",
    "print(paths)"
   ]
  },
  {
   "cell_type": "code",
   "execution_count": 25,
   "id": "e0675049-517d-4bad-86a5-9f899c276785",
   "metadata": {},
   "outputs": [],
   "source": [
    "# Define a multi image collection object\n",
    "multi_collection = mImageFileCollection(image_dir = paths)"
   ]
  },
  {
   "cell_type": "code",
   "execution_count": 47,
   "id": "1d200073-4e37-432c-ad74-c9f9e1d132bd",
   "metadata": {},
   "outputs": [
    {
     "data": {
      "text/plain": [
       "0"
      ]
     },
     "execution_count": 47,
     "metadata": {},
     "output_type": "execute_result"
    }
   ],
   "source": [
    "len(multi_collection[0].files_filtered(include_path = True, filter = \"UVM3\"))"
   ]
  },
  {
   "cell_type": "code",
   "execution_count": 44,
   "id": "e0ad9ea0-5d15-455e-b21c-b5d290c01dc9",
   "metadata": {},
   "outputs": [
    {
     "data": {
      "text/plain": [
       "'B3 0850+443'"
      ]
     },
     "execution_count": 44,
     "metadata": {},
     "output_type": "execute_result"
    }
   ],
   "source": [
    "multi_collection[0].location.parts[-1]"
   ]
  },
  {
   "cell_type": "code",
   "execution_count": null,
   "id": "e4dd225d-f464-41cb-bfb2-65dff28af5c3",
   "metadata": {},
   "outputs": [],
   "source": []
  }
 ],
 "metadata": {
  "kernelspec": {
   "display_name": "Python 3 (ipykernel)",
   "language": "python",
   "name": "python3"
  },
  "language_info": {
   "codemirror_mode": {
    "name": "ipython",
    "version": 3
   },
   "file_extension": ".py",
   "mimetype": "text/x-python",
   "name": "python",
   "nbconvert_exporter": "python",
   "pygments_lexer": "ipython3",
   "version": "3.9.18"
  }
 },
 "nbformat": 4,
 "nbformat_minor": 5
}
