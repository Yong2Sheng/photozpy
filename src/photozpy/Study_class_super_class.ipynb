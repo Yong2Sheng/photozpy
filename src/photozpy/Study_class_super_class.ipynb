{
 "cells": [
  {
   "cell_type": "code",
   "execution_count": 5,
   "id": "9c8014ce-8024-4514-b915-ea352f7cd7c7",
   "metadata": {
    "tags": []
   },
   "outputs": [],
   "source": [
    "class aa():\n",
    "    \n",
    "    def __init__(self, v):\n",
    "        self.x = v\n",
    "        self.__pa = 10\n",
    "        \n",
    "    def p(self):\n",
    "        print(\"class aa's instance method.\")\n",
    "        \n",
    "    def info(self):\n",
    "        print(\"info of aa instance\")\n",
    "        \n",
    "    @property\n",
    "    def get_x(self):\n",
    "        \n",
    "        return self.x\n",
    "        \n",
    "        \n",
    "class cc(aa):\n",
    "    \n",
    "    def __init__(self, v):\n",
    "        super(cc, self).__init__(12)\n",
    "        self.z = v\n",
    "        self.__pc = 10\n",
    "        \n",
    "    def p(self):\n",
    "        print(\"class cc's instance method.\")"
   ]
  },
  {
   "cell_type": "code",
   "execution_count": 6,
   "id": "1f3f8afb-3a43-47c4-9426-c8007f429253",
   "metadata": {
    "tags": []
   },
   "outputs": [],
   "source": [
    "a = aa(10)"
   ]
  },
  {
   "cell_type": "code",
   "execution_count": 7,
   "id": "98238005-ef05-487c-ab49-74f51ac61228",
   "metadata": {
    "tags": []
   },
   "outputs": [],
   "source": [
    "c = cc(30)"
   ]
  },
  {
   "cell_type": "code",
   "execution_count": 8,
   "id": "820634b8-3d0c-44e0-ae25-c2ff36d1029f",
   "metadata": {
    "tags": []
   },
   "outputs": [
    {
     "name": "stdout",
     "output_type": "stream",
     "text": [
      "class aa's instance method.\n"
     ]
    }
   ],
   "source": [
    "a.p()"
   ]
  },
  {
   "cell_type": "code",
   "execution_count": 93,
   "id": "8f587d86-554a-4a2f-a765-59de2abe5f55",
   "metadata": {
    "tags": []
   },
   "outputs": [
    {
     "name": "stdout",
     "output_type": "stream",
     "text": [
      "info of aa instance\n"
     ]
    }
   ],
   "source": [
    "a.info()"
   ]
  },
  {
   "cell_type": "code",
   "execution_count": 96,
   "id": "030d72a5-9f33-40da-90c8-034b424d85ba",
   "metadata": {
    "tags": []
   },
   "outputs": [
    {
     "data": {
      "text/plain": [
       "10"
      ]
     },
     "execution_count": 96,
     "metadata": {},
     "output_type": "execute_result"
    }
   ],
   "source": [
    "a.get_x"
   ]
  },
  {
   "cell_type": "code",
   "execution_count": 97,
   "id": "88a1fe57-67a4-43fd-bcf8-090fa37332e9",
   "metadata": {
    "tags": []
   },
   "outputs": [
    {
     "data": {
      "text/plain": [
       "30"
      ]
     },
     "execution_count": 97,
     "metadata": {},
     "output_type": "execute_result"
    }
   ],
   "source": [
    "c.z"
   ]
  },
  {
   "cell_type": "code",
   "execution_count": 98,
   "id": "90b4fadb-f2d0-4e83-a495-96cd1d9fff4a",
   "metadata": {
    "tags": []
   },
   "outputs": [
    {
     "name": "stdout",
     "output_type": "stream",
     "text": [
      "class cc's instance method.\n"
     ]
    }
   ],
   "source": [
    "c.p()"
   ]
  },
  {
   "cell_type": "code",
   "execution_count": 100,
   "id": "2181216c-1feb-464f-a3ac-fbc774b4eadc",
   "metadata": {
    "tags": []
   },
   "outputs": [
    {
     "ename": "AttributeError",
     "evalue": "'cc' object has no attribute 'x'",
     "output_type": "error",
     "traceback": [
      "\u001b[0;31m---------------------------------------------------------------------------\u001b[0m",
      "\u001b[0;31mAttributeError\u001b[0m                            Traceback (most recent call last)",
      "Cell \u001b[0;32mIn[100], line 1\u001b[0m\n\u001b[0;32m----> 1\u001b[0m c\u001b[38;5;241m.\u001b[39mget_x\n",
      "Cell \u001b[0;32mIn[89], line 16\u001b[0m, in \u001b[0;36maa.get_x\u001b[0;34m(self)\u001b[0m\n\u001b[1;32m     13\u001b[0m \u001b[38;5;129m@property\u001b[39m\n\u001b[1;32m     14\u001b[0m \u001b[38;5;28;01mdef\u001b[39;00m \u001b[38;5;21mget_x\u001b[39m(\u001b[38;5;28mself\u001b[39m):\n\u001b[0;32m---> 16\u001b[0m     \u001b[38;5;28;01mreturn\u001b[39;00m \u001b[38;5;28mself\u001b[39m\u001b[38;5;241m.\u001b[39mx\n",
      "\u001b[0;31mAttributeError\u001b[0m: 'cc' object has no attribute 'x'"
     ]
    }
   ],
   "source": [
    "c.get_x"
   ]
  },
  {
   "cell_type": "code",
   "execution_count": null,
   "id": "fb5cccae-2738-45b9-9ddc-5a1b6ffcd3cc",
   "metadata": {},
   "outputs": [],
   "source": []
  }
 ],
 "metadata": {
  "kernelspec": {
   "display_name": "Python 3 (ipykernel)",
   "language": "python",
   "name": "python3"
  },
  "language_info": {
   "codemirror_mode": {
    "name": "ipython",
    "version": 3
   },
   "file_extension": ".py",
   "mimetype": "text/x-python",
   "name": "python",
   "nbconvert_exporter": "python",
   "pygments_lexer": "ipython3",
   "version": "3.9.18"
  }
 },
 "nbformat": 4,
 "nbformat_minor": 5
}
