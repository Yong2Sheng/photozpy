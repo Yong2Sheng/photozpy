{
 "cells": [
  {
   "cell_type": "code",
   "execution_count": 2,
   "id": "0ff88906-d518-460e-b8aa-5eae62bd47d8",
   "metadata": {},
   "outputs": [],
   "source": [
    "from ccdproc import ImageFileCollection\n",
    "from photozpy import HeaderCorrection\n",
    "from photozpy import HeaderManipulation, CollectionManager\n",
    "from photozpy import Telescope\n",
    "from pathlib import Path"
   ]
  },
  {
   "cell_type": "code",
   "execution_count": 3,
   "id": "74b945e3-d372-4a17-842b-0965fb196d7c",
   "metadata": {},
   "outputs": [],
   "source": [
    "bias_collection = ImageFileCollection(location = \"testing_files\", glob_include = \"*Bias*\")"
   ]
  },
  {
   "cell_type": "code",
   "execution_count": 4,
   "id": "a6ccda73-c11a-4082-9a98-1aad88daf720",
   "metadata": {},
   "outputs": [],
   "source": [
    "flat_collection = ImageFileCollection(location = \"testing_files\", glob_include = \"*Flat*\")"
   ]
  },
  {
   "cell_type": "code",
   "execution_count": 5,
   "id": "c7e1d701-d3fc-4629-bb3c-5fa9ce28849c",
   "metadata": {},
   "outputs": [],
   "source": [
    "collection = ImageFileCollection(location = \"testing_files\", glob_include = \"*.fits\")"
   ]
  },
  {
   "cell_type": "code",
   "execution_count": 11,
   "id": "3c99ed32-3c14-4c01-afe9-509ee6ee7123",
   "metadata": {},
   "outputs": [
    {
     "data": {
      "text/plain": [
       "NoneType"
      ]
     },
     "execution_count": 11,
     "metadata": {},
     "output_type": "execute_result"
    }
   ],
   "source": [
    "type(collection.refresh())"
   ]
  },
  {
   "cell_type": "code",
   "execution_count": 9,
   "id": "87793248-92d5-468d-8879-ee7743073f3c",
   "metadata": {},
   "outputs": [
    {
     "data": {
      "text/plain": [
       "(2,)"
      ]
     },
     "execution_count": 9,
     "metadata": {},
     "output_type": "execute_result"
    }
   ],
   "source": [
    "(2,)"
   ]
  },
  {
   "cell_type": "code",
   "execution_count": 13,
   "id": "b58687c9-95f4-4dbe-a6d7-b4ff2f3a7cd1",
   "metadata": {},
   "outputs": [
    {
     "data": {
      "text/plain": [
       "('233',)"
      ]
     },
     "execution_count": 13,
     "metadata": {},
     "output_type": "execute_result"
    }
   ],
   "source": [
    "tuple([\"233\"])"
   ]
  },
  {
   "cell_type": "code",
   "execution_count": null,
   "id": "64a53eb7-82f8-4010-b366-26c46091e11e",
   "metadata": {},
   "outputs": [],
   "source": []
  }
 ],
 "metadata": {
  "kernelspec": {
   "display_name": "Python 3 (ipykernel)",
   "language": "python",
   "name": "python3"
  },
  "language_info": {
   "codemirror_mode": {
    "name": "ipython",
    "version": 3
   },
   "file_extension": ".py",
   "mimetype": "text/x-python",
   "name": "python",
   "nbconvert_exporter": "python",
   "pygments_lexer": "ipython3",
   "version": "3.9.18"
  }
 },
 "nbformat": 4,
 "nbformat_minor": 5
}
