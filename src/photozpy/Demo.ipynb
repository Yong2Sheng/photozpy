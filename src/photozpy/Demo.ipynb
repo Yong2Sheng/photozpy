{
 "cells": [
  {
   "cell_type": "code",
   "execution_count": 1,
   "id": "82bdd6ec-ed79-43e9-b092-c5405fe34e6d",
   "metadata": {},
   "outputs": [],
   "source": [
    "from photozpy import HeaderCorrection, Combine, Telescope, Reduction, CollectionManager\n",
    "from ccdproc import ImageFileCollection\n",
    "from pathlib import Path\n",
    "from astropy.time import Time\n",
    "import numpy as np\n",
    "\n",
    "from astropy.nddata import CCDData\n",
    "from astropy.visualization import hist\n",
    "import matplotlib.pyplot as plt\n",
    "from tqdm.notebook import tqdm\n",
    "from astropy.stats import mad_std\n",
    "\n",
    "from convenience_functions import show_image\n",
    "from astropy.io import fits\n",
    "#plt.style.use('guide.mplstyle')\n",
    "\n",
    "from astropy.io import fits\n",
    "\n",
    "from photozpy import CollectionManager"
   ]
  },
  {
   "cell_type": "code",
   "execution_count": 2,
   "id": "1996b5e7-a105-4583-b2b6-b5ccf61be843",
   "metadata": {},
   "outputs": [],
   "source": [
    "# define the telescope\n",
    "telescope = Telescope(telescope = \"RM\", mode = \"griz\", ccd = \"Andor\")"
   ]
  },
  {
   "cell_type": "code",
   "execution_count": 3,
   "id": "654b7381-01fc-43fa-8cb6-a330ef574317",
   "metadata": {},
   "outputs": [],
   "source": [
    "# get the original \n",
    "path = Path(\"/Users/shengyong/conda_envs/photozpy/photozpy/tests/20210807_Examined_has_flats\")\n",
    "image_collection = ImageFileCollection(location = path, glob_include = \"*.fits\")"
   ]
  },
  {
   "cell_type": "code",
   "execution_count": 4,
   "id": "b2f4c0b8-5848-41ba-a0d0-afa57daf7bf0",
   "metadata": {},
   "outputs": [],
   "source": [
    "targets = {\"B3_2238+410_\": \"B3 2238+410\",\n",
    "           \"RX_J1533.3+3416\": \"RX J1533.3+3416\", \n",
    "           \"SA92-253\": \"SA92-253\"}"
   ]
  },
  {
   "cell_type": "code",
   "execution_count": 5,
   "id": "b14388b2-2aad-4ef4-83e2-6da3cb3177fa",
   "metadata": {},
   "outputs": [],
   "source": [
    "header_edition = HeaderCorrection(image_collection = image_collection, telescope = telescope, target_dict = targets)"
   ]
  },
  {
   "cell_type": "code",
   "execution_count": 6,
   "id": "e911ba8c-7025-4ca0-b4d6-c8591afc9a25",
   "metadata": {},
   "outputs": [
    {
     "name": "stdout",
     "output_type": "stream",
     "text": [
      "Editing headers by file names......\n"
     ]
    },
    {
     "name": "stderr",
     "output_type": "stream",
     "text": [
      "100%|███████████████████████████████████████████████████████████████████████████████████████████████████████████████████████████████████████| 57/57 [00:04<00:00, 14.07it/s]\n"
     ]
    },
    {
     "name": "stdout",
     "output_type": "stream",
     "text": [
      "Header edition by file names completed!\n",
      "----------------------------------------\n",
      "\n"
     ]
    }
   ],
   "source": [
    "image_collection = header_edition.correct_headers_by_filename(save_location = \"/Users/shengyong/conda_envs/photozpy/photozpy/tests/20210807\")"
   ]
  },
  {
   "cell_type": "code",
   "execution_count": 7,
   "id": "fc06f59c-f8ee-4635-80d6-4504cc4a4052",
   "metadata": {},
   "outputs": [
    {
     "name": "stdout",
     "output_type": "stream",
     "text": [
      "Editting filter headers......\n"
     ]
    },
    {
     "name": "stderr",
     "output_type": "stream",
     "text": [
      "44it [00:01, 22.12it/s]\n"
     ]
    },
    {
     "name": "stdout",
     "output_type": "stream",
     "text": [
      "Filter header edition completed!\n",
      "----------------------------------------\n",
      "\n"
     ]
    }
   ],
   "source": [
    "image_collection = header_edition.correct_filter_headers()"
   ]
  },
  {
   "cell_type": "code",
   "execution_count": 8,
   "id": "2fed06bb-05ce-4f04-9365-e02966dad494",
   "metadata": {},
   "outputs": [],
   "source": [
    "combine_images = Combine(image_collection, telescope)"
   ]
  },
  {
   "cell_type": "code",
   "execution_count": 9,
   "id": "46ec68d3-58d8-4efc-b9f5-e2854b447dd5",
   "metadata": {},
   "outputs": [
    {
     "name": "stdout",
     "output_type": "stream",
     "text": [
      "Using ['Bias_009.fits', 'Bias_008.fits', 'Bias_003.fits', 'Bias_002.fits', 'Bias_006.fits', 'Bias_005.fits', 'Bias_001.fits', 'Bias_010.fits', 'Bias_007.fits', 'Bias_004.fits'] to combine the master Bias image!\n",
      "Bias combined!\n",
      "----------------------------------------\n",
      "\n"
     ]
    }
   ],
   "source": [
    "combine_images.combine_bias_or_dark(image_type = \"Bias\")"
   ]
  },
  {
   "cell_type": "code",
   "execution_count": 10,
   "id": "342df05f-191d-442f-8b59-18538e77b7c1",
   "metadata": {},
   "outputs": [],
   "source": [
    "calibrate_images = Reduction(image_collection, telescope)"
   ]
  },
  {
   "cell_type": "code",
   "execution_count": 11,
   "id": "789b0586-241d-4159-9d6f-b67ce479e19f",
   "metadata": {
    "scrolled": true
   },
   "outputs": [
    {
     "name": "stdout",
     "output_type": "stream",
     "text": [
      "Apply Master_Bias.fits correction to Flat_Sloan g'2_002.fits\n",
      "Apply Master_Bias.fits correction to Flat_Sloan r'2_003.fits\n",
      "Apply Master_Bias.fits correction to Flat_Sloan r'2_001.fits\n",
      "Apply Master_Bias.fits correction to B3_2238+410_Sloan g'2_001.fits\n",
      "Apply Master_Bias.fits correction to RX_J1533.3+3416_003.fits\n",
      "Apply Master_Bias.fits correction to RX_J1533.3+3416_002.fits\n",
      "Apply Master_Bias.fits correction to B3_2238+410_Sloan r'2_010.fits\n",
      "Apply Master_Bias.fits correction to RX_J1533.3+3416_005.fits\n",
      "Apply Master_Bias.fits correction to Flat_Sloan g'2_003.fits\n",
      "Apply Master_Bias.fits correction to RX_J1533.3+3416_007.fits\n",
      "Apply Master_Bias.fits correction to Dark_001.fits\n",
      "Apply Master_Bias.fits correction to Dark_003.fits\n",
      "Apply Master_Bias.fits correction to SA92-253_Sloan z'2_004.fits\n",
      "Apply Master_Bias.fits correction to B3_2238+410_Sloan i'2_007.fits\n",
      "Apply Master_Bias.fits correction to RX_J1533.3+3416_010.fits\n",
      "Apply Master_Bias.fits correction to Flat_Sloan g'2_001.fits\n",
      "Apply Master_Bias.fits correction to SA92-253_Sloan g'2_001.fits\n",
      "Apply Master_Bias.fits correction to B3_2238+410_Sloan g'2_009.fits\n",
      "Apply Master_Bias.fits correction to B3_2238+410_Sloan i'2_003.fits\n",
      "Apply Master_Bias.fits correction to SA92-253_Sloan i'2_007.fits\n",
      "Apply Master_Bias.fits correction to Flat_Sloan i'2_003.fits\n",
      "Apply Master_Bias.fits correction to SA92-253_Sloan z'2_008.fits\n",
      "Apply Master_Bias.fits correction to Flat_Sloan z'2_001.fits\n",
      "Apply Master_Bias.fits correction to RX_J1533.3+3416_011.fits\n",
      "Apply Master_Bias.fits correction to B3_2238+410_Sloan z'2_008.fits\n",
      "Apply Master_Bias.fits correction to B3_2238+410_Sloan r'2_002.fits\n",
      "Apply Master_Bias.fits correction to RX_J1533.3+3416_009.fits\n",
      "Apply Master_Bias.fits correction to B3_2238+410_Sloan z'2_012.fits\n",
      "Apply Master_Bias.fits correction to RX_J1533.3+3416_008.fits\n",
      "Apply Master_Bias.fits correction to B3_2238+410_Sloan g'2_005.fits\n",
      "Apply Master_Bias.fits correction to Flat_Sloan i'2_002.fits\n",
      "Apply Master_Bias.fits correction to B3_2238+410_Sloan z'2_004.fits\n",
      "Apply Master_Bias.fits correction to B3_2238+410_Sloan i'2_011.fits\n",
      "Apply Master_Bias.fits correction to SA92-253_Sloan g'2_005.fits\n",
      "Apply Master_Bias.fits correction to SA92-253_Sloan r'2_002.fits\n",
      "Apply Master_Bias.fits correction to B3_2238+410_Sloan r'2_006.fits\n",
      "Apply Master_Bias.fits correction to Flat_Sloan z'2_002.fits\n",
      "Apply Master_Bias.fits correction to SA92-253_Sloan r'2_006.fits\n",
      "Apply Master_Bias.fits correction to Flat_Sloan r'2_002.fits\n",
      "Apply Master_Bias.fits correction to Flat_Sloan i'2_001.fits\n",
      "Apply Master_Bias.fits correction to SA92-253_Sloan i'2_003.fits\n",
      "Apply Master_Bias.fits correction to RX_J1533.3+3416_004.fits\n",
      "Apply Master_Bias.fits correction to Dark_002.fits\n",
      "Apply Master_Bias.fits correction to RX_J1533.3+3416_012.fits\n",
      "Apply Master_Bias.fits correction to Flat_Sloan z'2_003.fits\n",
      "Apply Master_Bias.fits correction to RX_J1533.3+3416_001.fits\n",
      "Apply Master_Bias.fits correction to RX_J1533.3+3416_006.fits\n",
      "Bias Correction completed!\n",
      "----------------------------------------\n",
      "\n"
     ]
    }
   ],
   "source": [
    "calibrate_images.apply_bias_correction()"
   ]
  },
  {
   "cell_type": "code",
   "execution_count": 12,
   "id": "670ef070-a829-4a66-acd4-adf312d59082",
   "metadata": {},
   "outputs": [
    {
     "name": "stdout",
     "output_type": "stream",
     "text": [
      "Using ['Dark_001.fits', 'Dark_002.fits', 'Dark_003.fits'] to combine the master Dark image!\n",
      "Dark combined!\n",
      "----------------------------------------\n",
      "\n"
     ]
    }
   ],
   "source": [
    "combine_images.combine_bias_or_dark(image_type = \"Dark\")"
   ]
  },
  {
   "cell_type": "code",
   "execution_count": 13,
   "id": "127670bf-abbb-4656-9353-cd05fb04fdce",
   "metadata": {
    "scrolled": true
   },
   "outputs": [
    {
     "name": "stdout",
     "output_type": "stream",
     "text": [
      "Apply Master_Dark.fits correction to Flat_Sloan g'2_002.fits\n",
      "Apply Master_Dark.fits correction to Flat_Sloan r'2_003.fits\n",
      "Apply Master_Dark.fits correction to Flat_Sloan r'2_001.fits\n",
      "Apply Master_Dark.fits correction to B3_2238+410_Sloan g'2_001.fits\n",
      "Apply Master_Dark.fits correction to RX_J1533.3+3416_003.fits\n",
      "Apply Master_Dark.fits correction to RX_J1533.3+3416_002.fits\n",
      "Apply Master_Dark.fits correction to B3_2238+410_Sloan r'2_010.fits\n",
      "Apply Master_Dark.fits correction to RX_J1533.3+3416_005.fits\n",
      "Apply Master_Dark.fits correction to Flat_Sloan g'2_003.fits\n",
      "Apply Master_Dark.fits correction to RX_J1533.3+3416_007.fits\n",
      "Apply Master_Dark.fits correction to SA92-253_Sloan z'2_004.fits\n",
      "Apply Master_Dark.fits correction to B3_2238+410_Sloan i'2_007.fits\n",
      "Apply Master_Dark.fits correction to RX_J1533.3+3416_010.fits\n",
      "Apply Master_Dark.fits correction to Flat_Sloan g'2_001.fits\n",
      "Apply Master_Dark.fits correction to SA92-253_Sloan g'2_001.fits\n",
      "Apply Master_Dark.fits correction to B3_2238+410_Sloan g'2_009.fits\n",
      "Apply Master_Dark.fits correction to B3_2238+410_Sloan i'2_003.fits\n",
      "Apply Master_Dark.fits correction to SA92-253_Sloan i'2_007.fits\n",
      "Apply Master_Dark.fits correction to Flat_Sloan i'2_003.fits\n",
      "Apply Master_Dark.fits correction to SA92-253_Sloan z'2_008.fits\n",
      "Apply Master_Dark.fits correction to Flat_Sloan z'2_001.fits\n",
      "Apply Master_Dark.fits correction to RX_J1533.3+3416_011.fits\n",
      "Apply Master_Dark.fits correction to B3_2238+410_Sloan z'2_008.fits\n",
      "Apply Master_Dark.fits correction to B3_2238+410_Sloan r'2_002.fits\n",
      "Apply Master_Dark.fits correction to RX_J1533.3+3416_009.fits\n",
      "Apply Master_Dark.fits correction to B3_2238+410_Sloan z'2_012.fits\n",
      "Apply Master_Dark.fits correction to RX_J1533.3+3416_008.fits\n",
      "Apply Master_Dark.fits correction to B3_2238+410_Sloan g'2_005.fits\n",
      "Apply Master_Dark.fits correction to Flat_Sloan i'2_002.fits\n",
      "Apply Master_Dark.fits correction to B3_2238+410_Sloan z'2_004.fits\n",
      "Apply Master_Dark.fits correction to B3_2238+410_Sloan i'2_011.fits\n",
      "Apply Master_Dark.fits correction to SA92-253_Sloan g'2_005.fits\n",
      "Apply Master_Dark.fits correction to SA92-253_Sloan r'2_002.fits\n",
      "Apply Master_Dark.fits correction to B3_2238+410_Sloan r'2_006.fits\n",
      "Apply Master_Dark.fits correction to Flat_Sloan z'2_002.fits\n",
      "Apply Master_Dark.fits correction to SA92-253_Sloan r'2_006.fits\n",
      "Apply Master_Dark.fits correction to Flat_Sloan r'2_002.fits\n",
      "Apply Master_Dark.fits correction to Flat_Sloan i'2_001.fits\n",
      "Apply Master_Dark.fits correction to SA92-253_Sloan i'2_003.fits\n",
      "Apply Master_Dark.fits correction to RX_J1533.3+3416_004.fits\n",
      "Apply Master_Dark.fits correction to RX_J1533.3+3416_012.fits\n",
      "Apply Master_Dark.fits correction to Flat_Sloan z'2_003.fits\n",
      "Apply Master_Dark.fits correction to RX_J1533.3+3416_001.fits\n",
      "Apply Master_Dark.fits correction to RX_J1533.3+3416_006.fits\n"
     ]
    }
   ],
   "source": [
    "calibrate_images.apply_dark_correction()"
   ]
  },
  {
   "cell_type": "code",
   "execution_count": 14,
   "id": "961af22d-051a-4783-b213-43de3c12f58a",
   "metadata": {},
   "outputs": [
    {
     "name": "stdout",
     "output_type": "stream",
     "text": [
      "Using [\"Flat_Sloan g'2_002.fits\", \"Flat_Sloan g'2_001.fits\", \"Flat_Sloan g'2_003.fits\"] to combine the master Flat image in SDSS_g' filter!\n",
      "Flat in SDSS_g' filter combined!\n",
      "----------------------------------------------------------\n",
      "\n",
      "Using [\"Flat_Sloan r'2_002.fits\", \"Flat_Sloan r'2_001.fits\", \"Flat_Sloan r'2_003.fits\"] to combine the master Flat image in SDSS_r' filter!\n",
      "Flat in SDSS_r' filter combined!\n",
      "----------------------------------------------------------\n",
      "\n",
      "Using [\"Flat_Sloan i'2_003.fits\", \"Flat_Sloan i'2_002.fits\", \"Flat_Sloan i'2_001.fits\"] to combine the master Flat image in SDSS_i' filter!\n",
      "Flat in SDSS_i' filter combined!\n",
      "----------------------------------------------------------\n",
      "\n",
      "Using [\"Flat_Sloan z'2_002.fits\", \"Flat_Sloan z'2_003.fits\", \"Flat_Sloan z'2_001.fits\"] to combine the master Flat image in SDSS_z' filter!\n",
      "Flat in SDSS_z' filter combined!\n",
      "----------------------------------------------------------\n",
      "\n"
     ]
    }
   ],
   "source": [
    "combine_images.combine_light_or_flat(image_type = \"Flat\")"
   ]
  },
  {
   "cell_type": "code",
   "execution_count": 15,
   "id": "267849f8-dce0-4163-a9b9-a3c8218c0604",
   "metadata": {},
   "outputs": [
    {
     "name": "stdout",
     "output_type": "stream",
     "text": [
      "Using Master_Flat_SDSS_g'.fits correcting B3_2238+410_Sloan g'2_009.fits\n",
      "Using Master_Flat_SDSS_g'.fits correcting RX_J1533.3+3416_005.fits\n",
      "Using Master_Flat_SDSS_g'.fits correcting RX_J1533.3+3416_009.fits\n",
      "Using Master_Flat_SDSS_g'.fits correcting B3_2238+410_Sloan g'2_005.fits\n",
      "Using Master_Flat_SDSS_g'.fits correcting B3_2238+410_Sloan g'2_001.fits\n",
      "Using Master_Flat_SDSS_g'.fits correcting RX_J1533.3+3416_001.fits\n",
      "Using Master_Flat_SDSS_g'.fits correcting SA92-253_Sloan g'2_005.fits\n",
      "Using Master_Flat_SDSS_g'.fits correcting SA92-253_Sloan g'2_001.fits\n",
      "Using Master_Flat_SDSS_r'.fits correcting B3_2238+410_Sloan r'2_010.fits\n",
      "Using Master_Flat_SDSS_r'.fits correcting B3_2238+410_Sloan r'2_006.fits\n",
      "Using Master_Flat_SDSS_r'.fits correcting SA92-253_Sloan r'2_006.fits\n",
      "Using Master_Flat_SDSS_r'.fits correcting SA92-253_Sloan r'2_002.fits\n",
      "Using Master_Flat_SDSS_r'.fits correcting B3_2238+410_Sloan r'2_002.fits\n",
      "Using Master_Flat_SDSS_r'.fits correcting RX_J1533.3+3416_010.fits\n",
      "Using Master_Flat_SDSS_r'.fits correcting RX_J1533.3+3416_006.fits\n",
      "Using Master_Flat_SDSS_r'.fits correcting RX_J1533.3+3416_002.fits\n",
      "Using Master_Flat_SDSS_i'.fits correcting B3_2238+410_Sloan i'2_003.fits\n",
      "Using Master_Flat_SDSS_i'.fits correcting SA92-253_Sloan i'2_007.fits\n",
      "Using Master_Flat_SDSS_i'.fits correcting RX_J1533.3+3416_007.fits\n",
      "Using Master_Flat_SDSS_i'.fits correcting RX_J1533.3+3416_011.fits\n",
      "Using Master_Flat_SDSS_i'.fits correcting SA92-253_Sloan i'2_003.fits\n",
      "Using Master_Flat_SDSS_i'.fits correcting B3_2238+410_Sloan i'2_007.fits\n",
      "Using Master_Flat_SDSS_i'.fits correcting RX_J1533.3+3416_003.fits\n",
      "Using Master_Flat_SDSS_i'.fits correcting B3_2238+410_Sloan i'2_011.fits\n",
      "Using Master_Flat_SDSS_z'.fits correcting SA92-253_Sloan z'2_008.fits\n",
      "Using Master_Flat_SDSS_z'.fits correcting SA92-253_Sloan z'2_004.fits\n",
      "Using Master_Flat_SDSS_z'.fits correcting B3_2238+410_Sloan z'2_012.fits\n",
      "Using Master_Flat_SDSS_z'.fits correcting RX_J1533.3+3416_004.fits\n",
      "Using Master_Flat_SDSS_z'.fits correcting RX_J1533.3+3416_008.fits\n",
      "Using Master_Flat_SDSS_z'.fits correcting RX_J1533.3+3416_012.fits\n",
      "Using Master_Flat_SDSS_z'.fits correcting B3_2238+410_Sloan z'2_008.fits\n",
      "Using Master_Flat_SDSS_z'.fits correcting B3_2238+410_Sloan z'2_004.fits\n",
      "Flat correction finished\n",
      "----------------------------------------------------------\n",
      "\n"
     ]
    }
   ],
   "source": [
    "calibrate_images.apply_flat_correction()"
   ]
  },
  {
   "cell_type": "code",
   "execution_count": null,
   "id": "ac7d0584-ae01-4cef-bc32-e3408a9dbfdb",
   "metadata": {},
   "outputs": [],
   "source": []
  }
 ],
 "metadata": {
  "kernelspec": {
   "display_name": "Python 3 (ipykernel)",
   "language": "python",
   "name": "python3"
  },
  "language_info": {
   "codemirror_mode": {
    "name": "ipython",
    "version": 3
   },
   "file_extension": ".py",
   "mimetype": "text/x-python",
   "name": "python",
   "nbconvert_exporter": "python",
   "pygments_lexer": "ipython3",
   "version": "3.9.18"
  }
 },
 "nbformat": 4,
 "nbformat_minor": 5
}
