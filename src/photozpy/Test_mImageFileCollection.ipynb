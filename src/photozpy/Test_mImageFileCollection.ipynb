{
 "cells": [
  {
   "cell_type": "code",
   "execution_count": 1,
   "id": "0406bb55-4ed4-4235-b7b9-a4f309834254",
   "metadata": {
    "tags": []
   },
   "outputs": [],
   "source": [
    "%%capture\n",
    "from photozpy import mImageFileCollection\n",
    "from pathlib import Path\n",
    "from ccdproc import ImageFileCollection\n",
    "from photozpy import Telescope, HeaderCorrection, Telescope"
   ]
  },
  {
   "cell_type": "code",
   "execution_count": 2,
   "id": "26141187-d119-49e1-8137-4f19c65145d7",
   "metadata": {},
   "outputs": [],
   "source": [
    "parent_location = Path(\"/Users/shengyong/conda_envs/photozpy/photozpy/tests/New_swift_util/Old_source_images\")\n",
    "dirs = [path for path in parent_location.iterdir() if path.is_dir()]"
   ]
  },
  {
   "cell_type": "code",
   "execution_count": 3,
   "id": "94a8db23-63e8-423a-8e06-80a87e0d34fa",
   "metadata": {},
   "outputs": [
    {
     "data": {
      "text/plain": [
       "[PosixPath('/Users/shengyong/conda_envs/photozpy/photozpy/tests/New_swift_util/Old_source_images/B3 0850+443'),\n",
       " PosixPath('/Users/shengyong/conda_envs/photozpy/photozpy/tests/New_swift_util/Old_source_images/87GB 213913.0+293303'),\n",
       " PosixPath('/Users/shengyong/conda_envs/photozpy/photozpy/tests/New_swift_util/Old_source_images/4FGL J0700.5-6610')]"
      ]
     },
     "execution_count": 3,
     "metadata": {},
     "output_type": "execute_result"
    }
   ],
   "source": [
    "dirs"
   ]
  },
  {
   "cell_type": "code",
   "execution_count": 8,
   "id": "08a270dd-3530-44c4-b7be-d235e7bfc04b",
   "metadata": {},
   "outputs": [],
   "source": [
    "test_collection = mImageFileCollection(image_dir = dirs)"
   ]
  },
  {
   "cell_type": "code",
   "execution_count": 9,
   "id": "be17e011-4437-4249-b559-2e9cc472bd5c",
   "metadata": {},
   "outputs": [
    {
     "data": {
      "text/plain": [
       "[ImageFileCollection(location=PosixPath('/Users/shengyong/conda_envs/photozpy/photozpy/tests/New_swift_util/Old_source_images/B3 0850+443')),\n",
       " ImageFileCollection(location=PosixPath('/Users/shengyong/conda_envs/photozpy/photozpy/tests/New_swift_util/Old_source_images/87GB 213913.0+293303')),\n",
       " ImageFileCollection(location=PosixPath('/Users/shengyong/conda_envs/photozpy/photozpy/tests/New_swift_util/Old_source_images/4FGL J0700.5-6610'))]"
      ]
     },
     "execution_count": 9,
     "metadata": {},
     "output_type": "execute_result"
    }
   ],
   "source": [
    "test_collection.mcollection"
   ]
  },
  {
   "cell_type": "code",
   "execution_count": 38,
   "id": "9d33e21a-b976-493f-a874-69e6eb39d3c9",
   "metadata": {},
   "outputs": [],
   "source": [
    "filenames = test_collection[0].files_filtered(include_path = True)"
   ]
  },
  {
   "cell_type": "code",
   "execution_count": 41,
   "id": "3bf74784-3bf0-4d2c-b12e-d48c89ad75ca",
   "metadata": {},
   "outputs": [
    {
     "data": {
      "text/plain": [
       "['/Users/shengyong/conda_envs/photozpy/photozpy/tests/New_swift_util/Old_source_images/B3 0850+443/sw00014051001ubb_sk.fits',\n",
       " '/Users/shengyong/conda_envs/photozpy/photozpy/tests/New_swift_util/Old_source_images/B3 0850+443/sw00014051001um2_sk.fits',\n",
       " '/Users/shengyong/conda_envs/photozpy/photozpy/tests/New_swift_util/Old_source_images/B3 0850+443/sw00014051001uuu_sk.fits',\n",
       " '/Users/shengyong/conda_envs/photozpy/photozpy/tests/New_swift_util/Old_source_images/B3 0850+443/sw00014051001uvv_sk.fits',\n",
       " '/Users/shengyong/conda_envs/photozpy/photozpy/tests/New_swift_util/Old_source_images/B3 0850+443/sw00014051001uw1_sk.fits',\n",
       " '/Users/shengyong/conda_envs/photozpy/photozpy/tests/New_swift_util/Old_source_images/B3 0850+443/sw00014051001uw2_sk.fits',\n",
       " '/Users/shengyong/conda_envs/photozpy/photozpy/tests/New_swift_util/Old_source_images/B3 0850+443/sw00014051002ubb_sk.fits',\n",
       " '/Users/shengyong/conda_envs/photozpy/photozpy/tests/New_swift_util/Old_source_images/B3 0850+443/sw00014051002um2_sk.fits',\n",
       " '/Users/shengyong/conda_envs/photozpy/photozpy/tests/New_swift_util/Old_source_images/B3 0850+443/sw00014051002uuu_sk.fits',\n",
       " '/Users/shengyong/conda_envs/photozpy/photozpy/tests/New_swift_util/Old_source_images/B3 0850+443/sw00014051002uvv_sk.fits',\n",
       " '/Users/shengyong/conda_envs/photozpy/photozpy/tests/New_swift_util/Old_source_images/B3 0850+443/sw00014051002uw1_sk.fits',\n",
       " '/Users/shengyong/conda_envs/photozpy/photozpy/tests/New_swift_util/Old_source_images/B3 0850+443/sw00014051002uw2_sk.fits']"
      ]
     },
     "execution_count": 41,
     "metadata": {},
     "output_type": "execute_result"
    }
   ],
   "source": [
    "filenames"
   ]
  },
  {
   "cell_type": "code",
   "execution_count": 42,
   "id": "7c3c19bf-6cba-4ff0-919b-e531ad9cea93",
   "metadata": {},
   "outputs": [],
   "source": [
    "coll = ImageFileCollection(filenames = [filenames[0], filenames[6]])"
   ]
  },
  {
   "cell_type": "code",
   "execution_count": 12,
   "id": "7de43745-b48b-4b37-9b50-92aa7a4f7363",
   "metadata": {},
   "outputs": [],
   "source": [
    "telescope = Telescope(telescope = \"Swift\", mode = \"0X30ED\", ccd = \"UVOT\")"
   ]
  },
  {
   "cell_type": "code",
   "execution_count": 43,
   "id": "56876daf-329d-4b1f-9d5a-290f4b4f16d8",
   "metadata": {},
   "outputs": [
    {
     "data": {
      "text/plain": [
       "['/Users/shengyong/conda_envs/photozpy/photozpy/tests/New_swift_util/Old_source_images/B3 0850+443/sw00014051001ubb_sk.fits',\n",
       " '/Users/shengyong/conda_envs/photozpy/photozpy/tests/New_swift_util/Old_source_images/B3 0850+443/sw00014051002ubb_sk.fits']"
      ]
     },
     "execution_count": 43,
     "metadata": {},
     "output_type": "execute_result"
    }
   ],
   "source": [
    "coll.files_filtered(include_path = True)"
   ]
  },
  {
   "cell_type": "code",
   "execution_count": 45,
   "id": "8f6917b9-7b22-4973-a179-137e242e6362",
   "metadata": {},
   "outputs": [
    {
     "data": {
      "text/plain": [
       "['B']"
      ]
     },
     "execution_count": 45,
     "metadata": {},
     "output_type": "execute_result"
    }
   ],
   "source": [
    "coll.values(\"filter\", unique = True)"
   ]
  },
  {
   "cell_type": "code",
   "execution_count": 52,
   "id": "da5822e6-a4c1-48c6-9611-c49bd894a311",
   "metadata": {},
   "outputs": [
    {
     "data": {
      "text/plain": [
       "False"
      ]
     },
     "execution_count": 52,
     "metadata": {},
     "output_type": "execute_result"
    }
   ],
   "source": [
    "not \"B\" in telescope.filters"
   ]
  },
  {
   "cell_type": "code",
   "execution_count": null,
   "id": "bd6d1500-42d0-47a2-b016-b705bbd6ee08",
   "metadata": {},
   "outputs": [],
   "source": []
  }
 ],
 "metadata": {
  "kernelspec": {
   "display_name": "Python 3 (ipykernel)",
   "language": "python",
   "name": "python3"
  },
  "language_info": {
   "codemirror_mode": {
    "name": "ipython",
    "version": 3
   },
   "file_extension": ".py",
   "mimetype": "text/x-python",
   "name": "python",
   "nbconvert_exporter": "python",
   "pygments_lexer": "ipython3",
   "version": "3.9.18"
  }
 },
 "nbformat": 4,
 "nbformat_minor": 5
}
