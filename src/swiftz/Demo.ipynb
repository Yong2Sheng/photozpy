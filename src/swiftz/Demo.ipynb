{
 "cells": [
  {
   "cell_type": "code",
   "execution_count": 1,
   "id": "9a803623-b04c-446a-aaaa-48079fba4692",
   "metadata": {},
   "outputs": [
    {
     "name": "stdin",
     "output_type": "stream",
     "text": [
      "Once deleted, variables cannot be recovered. Proceed (y/[n])?  y\n"
     ]
    }
   ],
   "source": [
    "%reset"
   ]
  },
  {
   "cell_type": "code",
   "execution_count": 1,
   "id": "c05ce24a-1f20-4429-8e57-5c67149e2fff",
   "metadata": {},
   "outputs": [],
   "source": [
    "# No automatic dependency installation yet, you will have to manually install the depencies for now:\n",
    "# numpy\n",
    "# pandas\n",
    "# tqdm\n",
    "# astropy\n",
    "# swifttools\n",
    "\n",
    "# Make sure that you activate the uvot tools in the terminal before opening jupyter notebook"
   ]
  },
  {
   "cell_type": "code",
   "execution_count": 2,
   "id": "e2dd7cce-1e2c-48ac-ae59-cb389a5db9ae",
   "metadata": {},
   "outputs": [],
   "source": [
    "from swiftz import UVOTZ\n",
    "import pandas as pd\n",
    "import os\n",
    "import glob\n",
    "import numpy as np\n",
    "os.environ[\"HEADASNOQUERY\"]=\"\"\n",
    "os.environ['HEADASPROMPT'] = '/dev/null'"
   ]
  },
  {
   "cell_type": "code",
   "execution_count": 3,
   "id": "4922fd54-b338-42e8-9100-ee69916e5715",
   "metadata": {},
   "outputs": [],
   "source": [
    "root_dir = \"/home/yongsheng/Desktop/My_code_Scripts/Photo-z/photozpy/GitHub_photozpy/photozpy/src/swiftz\"\n",
    "metafile = \"metadata.csv\"\n"
   ]
  },
  {
   "cell_type": "code",
   "execution_count": 4,
   "id": "9897b7f5-b5e6-4c29-9406-41327f816e03",
   "metadata": {},
   "outputs": [
    {
     "name": "stdout",
     "output_type": "stream",
     "text": [
      "/home/yongsheng/Desktop/My_code_Scripts/Photo-z/photozpy/GitHub_photozpy/photozpy/src/swiftz/metadata.csv\n"
     ]
    }
   ],
   "source": [
    "analysis = UVOTZ(root_dir,metafile)\n"
   ]
  },
  {
   "cell_type": "code",
   "execution_count": 5,
   "id": "8cf0ad78-a76d-4c87-b2af-00627014cf58",
   "metadata": {},
   "outputs": [
    {
     "name": "stdout",
     "output_type": "stream",
     "text": [
      "00015119001 on 2022-04-17 07:35:02 is being downloaded, the uvot mode is 0x30ed\n"
     ]
    },
    {
     "data": {
      "application/vnd.jupyter.widget-view+json": {
       "model_id": "f0067c52795b48f19bfc87bd70f7abb8",
       "version_major": 2,
       "version_minor": 0
      },
      "text/plain": [
       "Downloading files:   0%|          | 0/45 [00:00<?, ?files/s]"
      ]
     },
     "metadata": {},
     "output_type": "display_data"
    },
    {
     "name": "stdout",
     "output_type": "stream",
     "text": [
      "00015119001 has been downloaded/examined, skipping ...\n",
      "Source RX_J1651.6+7218 download finished!\n",
      "+++++++++++++++++++++++++++++++++++++++++++++++++++++++++++\n"
     ]
    }
   ],
   "source": [
    "analysis.ObsDownload(begin = \"2015-01-01\", end = \"2023-01-01\")"
   ]
  },
  {
   "cell_type": "code",
   "execution_count": 6,
   "id": "9693ebb8-2d8f-45a6-ae6f-1d27d79c6d25",
   "metadata": {},
   "outputs": [
    {
     "name": "stdout",
     "output_type": "stream",
     "text": [
      "Now summing RX J1651.6+7218\n"
     ]
    }
   ],
   "source": [
    "analysis.UVOTSum()"
   ]
  },
  {
   "cell_type": "markdown",
   "id": "fc52f8eb-5f53-4faf-8bcc-d628ca47a4a2",
   "metadata": {},
   "source": [
    "After summing, go to `./RX_J1651.6+7218/summed` directory and define the background regions for each filter.\n",
    "I am considering to make bkg region also automatic, but this involves source detection and rejection.\n",
    "This can be a future function"
   ]
  },
  {
   "cell_type": "code",
   "execution_count": 12,
   "id": "b14c50a2-823a-40c3-8fa9-65078b84fa2b",
   "metadata": {},
   "outputs": [
    {
     "name": "stderr",
     "output_type": "stream",
     "text": [
      "/media/psf/Home/Desktop/My_code_Scripts/Photo-z/photozpy/GitHub_photozpy/photozpy/src/swiftz/swiftz.py:347: FutureWarning: The frame.append method is deprecated and will be removed from pandas in a future version. Use pandas.concat instead.\n",
      "  df_results = df_results.append(dict_new,ignore_index = True)\n"
     ]
    },
    {
     "name": "stdout",
     "output_type": "stream",
     "text": [
      "Running uvotsource image=/home/yongsheng/Desktop/My_code_Scripts/Photo-z/photozpy/GitHub_photozpy/photozpy/src/swiftz/RX_J1651.6+7218/summed/allubb.fits srcreg=/home/yongsheng/Desktop/My_code_Scripts/Photo-z/photozpy/GitHub_photozpy/photozpy/src/swiftz/RX_J1651.6+7218/summed/ubb.reg bkgreg=/home/yongsheng/Desktop/My_code_Scripts/Photo-z/photozpy/GitHub_photozpy/photozpy/src/swiftz/RX_J1651.6+7218/summed/bgubb.reg sigma=3 cleanup=y clobber=y outfile=/home/yongsheng/Desktop/My_code_Scripts/Photo-z/photozpy/GitHub_photozpy/photozpy/src/swiftz/RX_J1651.6+7218/summed/ubb_Results.fits | tee /home/yongsheng/Desktop/My_code_Scripts/Photo-z/photozpy/GitHub_photozpy/photozpy/src/swiftz/RX_J1651.6+7218/summed/ubb_Results.txt >/dev/null\n",
      "Running uvotsource image=/home/yongsheng/Desktop/My_code_Scripts/Photo-z/photozpy/GitHub_photozpy/photozpy/src/swiftz/RX_J1651.6+7218/summed/allum2.fits srcreg=/home/yongsheng/Desktop/My_code_Scripts/Photo-z/photozpy/GitHub_photozpy/photozpy/src/swiftz/RX_J1651.6+7218/summed/um2.reg bkgreg=/home/yongsheng/Desktop/My_code_Scripts/Photo-z/photozpy/GitHub_photozpy/photozpy/src/swiftz/RX_J1651.6+7218/summed/bgum2.reg sigma=3 cleanup=y clobber=y outfile=/home/yongsheng/Desktop/My_code_Scripts/Photo-z/photozpy/GitHub_photozpy/photozpy/src/swiftz/RX_J1651.6+7218/summed/um2_Results.fits | tee /home/yongsheng/Desktop/My_code_Scripts/Photo-z/photozpy/GitHub_photozpy/photozpy/src/swiftz/RX_J1651.6+7218/summed/um2_Results.txt >/dev/null\n",
      "Running uvotsource image=/home/yongsheng/Desktop/My_code_Scripts/Photo-z/photozpy/GitHub_photozpy/photozpy/src/swiftz/RX_J1651.6+7218/summed/alluuu.fits srcreg=/home/yongsheng/Desktop/My_code_Scripts/Photo-z/photozpy/GitHub_photozpy/photozpy/src/swiftz/RX_J1651.6+7218/summed/uuu.reg bkgreg=/home/yongsheng/Desktop/My_code_Scripts/Photo-z/photozpy/GitHub_photozpy/photozpy/src/swiftz/RX_J1651.6+7218/summed/bguuu.reg sigma=3 cleanup=y clobber=y outfile=/home/yongsheng/Desktop/My_code_Scripts/Photo-z/photozpy/GitHub_photozpy/photozpy/src/swiftz/RX_J1651.6+7218/summed/uuu_Results.fits | tee /home/yongsheng/Desktop/My_code_Scripts/Photo-z/photozpy/GitHub_photozpy/photozpy/src/swiftz/RX_J1651.6+7218/summed/uuu_Results.txt >/dev/null\n",
      "Running uvotsource image=/home/yongsheng/Desktop/My_code_Scripts/Photo-z/photozpy/GitHub_photozpy/photozpy/src/swiftz/RX_J1651.6+7218/summed/alluvv.fits srcreg=/home/yongsheng/Desktop/My_code_Scripts/Photo-z/photozpy/GitHub_photozpy/photozpy/src/swiftz/RX_J1651.6+7218/summed/uvv.reg bkgreg=/home/yongsheng/Desktop/My_code_Scripts/Photo-z/photozpy/GitHub_photozpy/photozpy/src/swiftz/RX_J1651.6+7218/summed/bguvv.reg sigma=3 cleanup=y clobber=y outfile=/home/yongsheng/Desktop/My_code_Scripts/Photo-z/photozpy/GitHub_photozpy/photozpy/src/swiftz/RX_J1651.6+7218/summed/uvv_Results.fits | tee /home/yongsheng/Desktop/My_code_Scripts/Photo-z/photozpy/GitHub_photozpy/photozpy/src/swiftz/RX_J1651.6+7218/summed/uvv_Results.txt >/dev/null\n",
      "Running uvotsource image=/home/yongsheng/Desktop/My_code_Scripts/Photo-z/photozpy/GitHub_photozpy/photozpy/src/swiftz/RX_J1651.6+7218/summed/alluw1.fits srcreg=/home/yongsheng/Desktop/My_code_Scripts/Photo-z/photozpy/GitHub_photozpy/photozpy/src/swiftz/RX_J1651.6+7218/summed/uw1.reg bkgreg=/home/yongsheng/Desktop/My_code_Scripts/Photo-z/photozpy/GitHub_photozpy/photozpy/src/swiftz/RX_J1651.6+7218/summed/bguw1.reg sigma=3 cleanup=y clobber=y outfile=/home/yongsheng/Desktop/My_code_Scripts/Photo-z/photozpy/GitHub_photozpy/photozpy/src/swiftz/RX_J1651.6+7218/summed/uw1_Results.fits | tee /home/yongsheng/Desktop/My_code_Scripts/Photo-z/photozpy/GitHub_photozpy/photozpy/src/swiftz/RX_J1651.6+7218/summed/uw1_Results.txt >/dev/null\n",
      "Running uvotsource image=/home/yongsheng/Desktop/My_code_Scripts/Photo-z/photozpy/GitHub_photozpy/photozpy/src/swiftz/RX_J1651.6+7218/summed/alluw2.fits srcreg=/home/yongsheng/Desktop/My_code_Scripts/Photo-z/photozpy/GitHub_photozpy/photozpy/src/swiftz/RX_J1651.6+7218/summed/uw2.reg bkgreg=/home/yongsheng/Desktop/My_code_Scripts/Photo-z/photozpy/GitHub_photozpy/photozpy/src/swiftz/RX_J1651.6+7218/summed/bguw2.reg sigma=3 cleanup=y clobber=y outfile=/home/yongsheng/Desktop/My_code_Scripts/Photo-z/photozpy/GitHub_photozpy/photozpy/src/swiftz/RX_J1651.6+7218/summed/uw2_Results.fits | tee /home/yongsheng/Desktop/My_code_Scripts/Photo-z/photozpy/GitHub_photozpy/photozpy/src/swiftz/RX_J1651.6+7218/summed/uw2_Results.txt >/dev/null\n"
     ]
    }
   ],
   "source": [
    "# This step take pretty long if you are using remote CALDB. \n",
    "# I am not very sure, but making the uvotsource step for different filters parallel should be possible.\n",
    "analysis.UVOTSource()\n"
   ]
  }
 ],
 "metadata": {
  "kernelspec": {
   "display_name": "Python 3 (ipykernel)",
   "language": "python",
   "name": "python3"
  },
  "language_info": {
   "codemirror_mode": {
    "name": "ipython",
    "version": 3
   },
   "file_extension": ".py",
   "mimetype": "text/x-python",
   "name": "python",
   "nbconvert_exporter": "python",
   "pygments_lexer": "ipython3",
   "version": "3.10.8"
  }
 },
 "nbformat": 4,
 "nbformat_minor": 5
}
